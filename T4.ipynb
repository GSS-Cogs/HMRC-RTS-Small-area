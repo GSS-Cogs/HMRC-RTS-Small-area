{
 "cells": [
  {
   "cell_type": "code",
   "execution_count": null,
   "metadata": {},
   "outputs": [],
   "source": [
    "from gssutils import *\n",
    "\n",
    "if is_interactive():\n",
    "    scraper = Scraper(\"https://www.gov.uk/government/statistics/regional-trade-in-goods-statistics-dis-aggregated-by-smaller-geographical-areas-2017\")\n",
    "    tabs = {tab.name: tab for tab in scraper.distribution(title=lambda t: 'Data Tables' in t).as_databaker()}"
   ]
  },
  {
   "cell_type": "code",
   "execution_count": null,
   "metadata": {},
   "outputs": [],
   "source": [
    "tab = tabs['T4 NUTS2 Partner Country']"
   ]
  },
  {
   "cell_type": "code",
   "execution_count": null,
   "metadata": {
    "collapsed": true
   },
   "outputs": [],
   "source": [
    "tidy = pd.DataFrame()"
   ]
  },
  {
   "cell_type": "code",
   "execution_count": null,
   "metadata": {},
   "outputs": [],
   "source": [
    "flow = tab.filter('Flow').fill(DOWN).is_not_blank().is_not_whitespace()\n",
    "geography = tab.filter('Partner Country').fill(DOWN).is_not_blank().is_not_whitespace() \n",
    "nut = tab.filter('NUTS2').fill(DOWN).is_not_blank().is_not_whitespace() \n",
    "observations = tab.filter('Statistical Value (£ million)').fill(DOWN).is_not_blank().is_not_whitespace()\n",
    "observations = observations.filter(lambda x: type(x.value) != str or 'HMRC' not in x.value)\n",
    "Dimensions = [\n",
    "            HDim(flow,'Flow',DIRECTLY,LEFT),\n",
    "            HDim(geography,'Geography',DIRECTLY,LEFT),\n",
    "            HDim(nut,'NUTS Geography',DIRECTLY,LEFT),\n",
    "            HDimConst('SITC 4', 'all'),\n",
    "            HDimConst('Measure Type', 'GBP Total'),\n",
    "            HDimConst('Unit', 'gbp-million'),\n",
    "            HDimConst('Year', dataset_year)\n",
    "            ]\n",
    "c1 = ConversionSegment(observations, Dimensions, processTIMEUNIT=True)\n",
    "table1 = c1.topandas()\n",
    "tidy = pd.concat([tidy, table1])"
   ]
  },
  {
   "cell_type": "code",
   "execution_count": null,
   "metadata": {},
   "outputs": [],
   "source": [
    "savepreviewhtml(c1)"
   ]
  },
  {
   "cell_type": "code",
   "execution_count": null,
   "metadata": {},
   "outputs": [],
   "source": [
    "observations1 = tab.filter('Business Count').fill(DOWN).is_not_blank().is_not_whitespace()\n",
    "observations1 = observations1.filter(lambda x: type(x.value) != str or 'HMRC' not in x.value)\n",
    "Dimensions = [\n",
    "            HDim(flow,'Flow',DIRECTLY,LEFT),\n",
    "            HDim(geography,'Geography',DIRECTLY,LEFT),\n",
    "            HDim(nut,'NUTS Geography',DIRECTLY,LEFT),\n",
    "            HDimConst('SITC 4', 'all'),\n",
    "            HDimConst('Measure Type', 'Count of Businesses'),\n",
    "            HDimConst('Unit', 'businesses'),\n",
    "            HDimConst('Year', '2017')\n",
    "            ]\n",
    "c2 = ConversionSegment(observations1, Dimensions, processTIMEUNIT=True)\n",
    "table2 = c2.topandas()\n",
    "tidy = pd.concat([tidy, table2])"
   ]
  },
  {
   "cell_type": "code",
   "execution_count": null,
   "metadata": {},
   "outputs": [],
   "source": [
    "savepreviewhtml(c2)"
   ]
  },
  {
   "cell_type": "code",
   "execution_count": null,
   "metadata": {
    "collapsed": true
   },
   "outputs": [],
   "source": [
    "import numpy as np\n",
    "tidy['OBS'].replace('', np.nan, inplace=True)\n",
    "tidy.dropna(subset=['OBS'], inplace=True)\n",
    "tidy.drop(columns=['DATAMARKER'], inplace=True)\n",
    "tidy.rename(columns={'OBS': 'Value'}, inplace=True)\n",
    "tidy['Value'] = tidy['Value'].astype(int)\n",
    "tidy['Value'] = tidy['Value'].map(lambda x:''\n",
    "                                  if (x == ':') | (x == 'xx') | (x == '..') | (x == 'N/A')\n",
    "                                  else int(x))"
   ]
  },
  {
   "cell_type": "code",
   "execution_count": null,
   "metadata": {},
   "outputs": [],
   "source": [
    "for col in tidy.columns:\n",
    "    if col not in ['Value', 'Year']:\n",
    "        tidy[col] = tidy[col].astype('category')\n",
    "        display(col)\n",
    "        display(tidy[col].cat.categories)"
   ]
  },
  {
   "cell_type": "code",
   "execution_count": null,
   "metadata": {
    "collapsed": true
   },
   "outputs": [],
   "source": [
    "tidy['NUTS Geography'] = tidy['NUTS Geography'].cat.rename_categories({\n",
    "    'All NUTS2 areas': 'nuts2/all',\n",
    "    'Bedfordshire and Hertfordshire': 'nuts2/UKH2',\n",
    "    'Berkshire, Buckinghamshire and Oxfordshire': 'nuts2/UKJ1',\n",
    "    'Cheshire':'nuts2/UKD6',\n",
    "    'Cornwall and Isles of Scilly':'nuts2/UKK3',\n",
    "    'Cumbria':'nuts2/UKD1',\n",
    "    'Derbyshire and Nottinghamshire':'nuts2/UKF1',\n",
    "    'Devon':'nuts2/UKK4',\n",
    "    'Dorset and Somerset':'nuts2/UKK2',\n",
    "    'East Anglia':'nuts2/UKH1',\n",
    "    'EA BTTA': 'nuts2/ea-btta',\n",
    "    'EA Energy':'nuts2/ea-energy',\n",
    "    'EA Other':'nuts2/ea-other',\n",
    "    'East Wales':'nuts2/UKL2',\n",
    "    'East Yorkshire and Northern Lincolnshire':'nuts2/UKE1',\n",
    "    'Eastern Scotland':'nuts2/UKM7',\n",
    "    'EM BTTA':'nuts2/em-btta',\n",
    "    'EM Energy':'nuts2/em-energy',\n",
    "    'EM Other':'nuts2/em-other',\n",
    "    'Essex':'nuts2/UKH3',\n",
    "    'Gloucestershire, Wiltshire and Bath/Bristol area':'nuts2/UKK1',\n",
    "    'Greater Manchester':'nuts2/UKD3',\n",
    "    'Hampshire and Isle of Wight':'nuts2/UKJ3',\n",
    "    'Herefordshire, Worcestershire and Warwickshire':'nuts2/UKG1',\n",
    "    'Highlands and Islands':'nuts2/UKM6',\n",
    "    'Inner London - East':'nuts2/UKI4',\n",
    "    'Inner London - West':'nuts2/UKI3',\n",
    "    'Kent':'nuts2/UKJ4',\n",
    "    'Lancashire':'nuts2/UKD4',\n",
    "    'Leicestershire, Rutland and Northamptonshire':\t'nuts2/UKF2',\n",
    "    'Lincolnshire':'nuts2/UKF3',\n",
    "    'LO BTTA':'nuts2/lo-btta',\n",
    "    'LO Other':'nuts2/lo-other',\n",
    "    'Merseyside':'nuts2/UKD7',\n",
    "    'NE BTTA':'nuts2/ne-btta',\n",
    "    'NE Energy':'nuts2/ne-energy',\n",
    "    'NE Other':'nuts2/ne-other',\n",
    "    'North Eastern Scotland':'nuts2/UKM5',\n",
    "    'North Yorkshire':'nuts2/UKE2',\n",
    "    'Northern Ireland':'nuts2/UKN0',\n",
    "    'Northumberland and Tyne and Wear':\t'nuts2/UKC2',\n",
    "    'NW BTTA':'nuts2/nw-btta',\n",
    "    'NW Energy':'nuts2/nw-energy',\n",
    "    'NW Other':'nuts2/nw-other',\n",
    "    'Outer London - East and North East':'nuts2/UKI5',\n",
    "    'Outer London - South':'nuts2/UKI6',\n",
    "    'Outer London - West and North West':'nuts2/UKI7',\n",
    "    'SC BTTA':'nuts2/sc-btta',\n",
    "    'SC Energy':'nuts2/sc-energy',\n",
    "    'SC Other':'nuts2/sc-other',\n",
    "    'SE BTTA':'nuts2/se-btta',\n",
    "    'SE Energy':'nuts2/se-energy',\n",
    "    'SE Other':'nuts2/se-other',\n",
    "    'Shropshire and Staffordshire':\t'nuts2/UKG2',\n",
    "    'South Western Scotland':'nuts2/swsc',\n",
    "    'SW BTTA':'nuts2/sw-btta',\n",
    "    'SW Other':'nuts2/sw-other',\n",
    "    'South Yorkshire':'nuts2/UKE3',\n",
    "    'Southern Scotland':'nuts2/UKM9',\n",
    "    'Surrey, East and West Sussex':'nuts2/UKJ2',\n",
    "    'Tees Valley and Durham':'nuts2/UKC1',\n",
    "    'West Central Scotland':'nuts2/UKM8',\n",
    "    'West Midlands':'nuts2/UKG3',\n",
    "    'West Wales':'nuts2/UKL1',\n",
    "    'West Yorkshire':'nuts2/UKE4',\n",
    "    'WA BTTA':'nuts2/wa-btta',\n",
    "    'WA Energy':'nuts2/wa-energy',\n",
    "    'WA Other':'nuts2/wa-other',\n",
    "    'WM BTTA':'nuts2/wm-btta',\n",
    "    'WM Other':'nuts2/wm-other',\n",
    "    'YH BTTA':'nuts2/yh-btta',\n",
    "    'YH Energy':'nuts2/yh-energy',\n",
    "    'YH Other':'nuts2/yh-other'\n",
    "\n",
    "})\n",
    "tidy['Geography'] = tidy['Geography'].cat.rename_categories({\n",
    "        'Congo (Republic)' : 'Congo (Democratic Republic of the)',\n",
    "        'Dominican Rep' : 'Dominican Republic',\n",
    "        'Equat Guinea' : 'Equatorial Guinea',\n",
    "        'Falkland Islands' : 'Falklands Islands and dependencies',\n",
    "        'Fyr Macedonia': 'Macedonia',\n",
    "        'Irish Republic' : 'Republic of Ireland',\n",
    "        'Russia' : 'Russian Federation',\n",
    "        'Tanzania' : 'Tanzania (United Republic of)',\n",
    "        'Trinidad:Tobago' : 'Trinidad and Tobago',\n",
    "        'UAE' : 'United Arab Emirates',\n",
    "        'USA' : 'United States',\n",
    "        'Venezuela' : 'Venezuela, Bolivarian Republic of',\n",
    "        'Residual Trade - no Partner Country displayed' : 'Residual Trade',\n",
    "        'OtherLatin America and Caribbean' : 'Other Latin America and Caribbean',\n",
    "        'Other Middle East and N Africa (excl EU)' : 'Other Middle East and North Africa'       \n",
    " \n",
    "})\n",
    "tidy['Flow'] = tidy['Flow'].cat.rename_categories({\n",
    "        'Exp'   : 'exports',\n",
    "        'Imp' : 'imports'})"
   ]
  },
  {
   "cell_type": "code",
   "execution_count": null,
   "metadata": {
    "collapsed": true
   },
   "outputs": [],
   "source": [
    "import urllib.request as request\n",
    "import csv\n",
    "import io\n",
    "import requests\n",
    "\n",
    "r = request.urlopen('https://raw.githubusercontent.com/ONS-OpenData/ref_trade/master/codelists/hmrc-geographies.csv').read().decode('utf8').split(\"\\n\")\n",
    "reader = csv.reader(r)\n",
    "url=\"https://raw.githubusercontent.com/ONS-OpenData/ref_trade/master/codelists/hmrc-geographies.csv\"\n",
    "s=requests.get(url).content\n",
    "c=pd.read_csv(io.StringIO(s.decode('utf-8')))\n",
    "\n",
    "tidy = pd.merge(tidy, c, how = 'left', left_on = 'Geography', right_on = 'Label')\n",
    "\n",
    "tidy.columns = ['HMRC Partner Geography' if x=='Notation' else x for x in tidy.columns]"
   ]
  },
  {
   "cell_type": "code",
   "execution_count": null,
   "metadata": {
    "collapsed": true
   },
   "outputs": [],
   "source": [
    "tidy =tidy[['Year','NUTS Geography','HMRC Partner Geography','Flow','SITC 4','Measure Type', 'Value', 'Unit']]"
   ]
  },
  {
   "cell_type": "code",
   "execution_count": null,
   "metadata": {
    "collapsed": true
   },
   "outputs": [],
   "source": []
  }
 ],
 "metadata": {
  "kernelspec": {
   "display_name": "Python 3",
   "language": "python",
   "name": "python3"
  },
  "language_info": {
   "codemirror_mode": {
    "name": "ipython",
    "version": 3
   },
   "file_extension": ".py",
   "mimetype": "text/x-python",
   "name": "python",
   "nbconvert_exporter": "python",
   "pygments_lexer": "ipython3",
   "version": "3.7.2"
  }
 },
 "nbformat": 4,
 "nbformat_minor": 2
}
