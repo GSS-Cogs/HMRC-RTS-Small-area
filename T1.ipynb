{
 "cells": [
  {
   "cell_type": "code",
   "execution_count": 1,
   "metadata": {},
   "outputs": [
    {
     "name": "stderr",
     "output_type": "stream",
     "text": [
      "WARNING:Cache entry deserialization failed, entry ignored\n"
     ]
    }
   ],
   "source": [
    "from gssutils import *\n",
    "\n",
    "if is_interactive():\n",
    "    scraper = Scraper(\"https://www.gov.uk/government/statistics/regional-trade-in-goods-statistics-dis-aggregated-by-smaller-geographical-areas-2017\")\n",
    "    tabs = {tab.name: tab for tab in scraper.distribution(title=lambda t: 'Data Tables' in t).as_databaker()}"
   ]
  },
  {
   "cell_type": "code",
   "execution_count": 2,
   "metadata": {
    "collapsed": true
   },
   "outputs": [],
   "source": [
    "tab = tabs['T1 NUTS1 (Summary Data)']"
   ]
  },
  {
   "cell_type": "code",
   "execution_count": 3,
   "metadata": {
    "collapsed": true
   },
   "outputs": [],
   "source": [
    "tidy = pd.DataFrame()"
   ]
  },
  {
   "cell_type": "code",
   "execution_count": 4,
   "metadata": {},
   "outputs": [
    {
     "name": "stdout",
     "output_type": "stream",
     "text": [
      "\n"
     ]
    }
   ],
   "source": [
    "flow = tab.filter('Flow').fill(DOWN).is_not_blank().is_not_whitespace()\n",
    "geography = tab.filter('EU / Non-EU').fill(DOWN).is_not_blank().is_not_whitespace() | flow\n",
    "nut = tab.filter('NUTS1').fill(DOWN).is_not_blank().is_not_whitespace() | flow\n",
    "observations = tab.filter('Statistical Value (£ million)').fill(DOWN).is_not_blank().is_not_whitespace()\n",
    "observations = observations.filter(lambda x: type(x.value) != str or 'HMRC' not in x.value)\n",
    "Dimensions = [\n",
    "            HDim(flow,'Flow',DIRECTLY,LEFT),\n",
    "            HDim(geography,'HMRC Partner Geography',DIRECTLY,LEFT),\n",
    "            HDim(nut,'NUTS Geography',DIRECTLY,LEFT),\n",
    "            HDimConst('SITC 4', 'all'),\n",
    "            HDimConst('Measure Type', 'GBP Total'),\n",
    "            HDimConst('Unit', 'gbp-million'),\n",
    "            HDimConst('Year', dataset_year)\n",
    "            ]\n",
    "c1 = ConversionSegment(observations, Dimensions, processTIMEUNIT=True)\n",
    "table1 = c1.topandas()\n",
    "tidy = pd.concat([tidy, table1])"
   ]
  },
  {
   "cell_type": "code",
   "execution_count": 5,
   "metadata": {},
   "outputs": [
    {
     "data": {
      "text/html": [
       "<div id=\"injblock1001\">\n",
       "<style>\n",
       "table.ex, table.exkey { border: thin black solid }\n",
       "table.ex td, table.ex tr { border: none }\n",
       "table.ex td:hover { border: thin blue solid }\n",
       "table.ex td.excOBS:hover { border: thin red solid }\n",
       "table.ex td.selected { border: thick red solid }\n",
       "</style>\n",
       "\n",
       "\n",
       "<table class=\"exkey\">\n",
       "<tr><td class=\"xc0\" style=\"background-color:Aqua\">OBS</td><td class=\"xc1\" style=\"background-color:LightGreen\">Flow</td><td class=\"xc2\" style=\"background-color:MistyRose\">HMRC Partner Geography</td><td class=\"xc3\" style=\"background-color:LightGray\">NUTS Geography</td></tr></table>\n",
       "\n",
       "<table class=\"ex\">\n",
       "<caption style=\"text-align:center; padding:0px; caption-side:bottom\">T1 NUTS1 (Summary Data)</caption>\n",
       "<tr><td style=\"font-weight:bold\" title=\"0 0\">Table 1 - NUTS1 by Flow - 2017</td><td style=\"font-weight:bold\" title=\"1 0\"></td><td style=\"font-weight:bold\" title=\"2 0\"></td><td title=\"3 0\"></td><td title=\"4 0\"></td><td title=\"5 0\"></td><td title=\"6 0\"></td><td title=\"7 0\"></td><td title=\"8 0\"></td><td title=\"9 0\"></td><td title=\"10 0\"></td><td title=\"11 0\"></td><td title=\"12 0\"></td><td title=\"13 0\"></td></tr>\n",
       "<tr><td title=\"0 1\"></td><td title=\"1 1\"></td><td title=\"2 1\"></td><td title=\"3 1\"></td><td title=\"4 1\"></td><td title=\"5 1\"></td><td title=\"6 1\"></td><td title=\"7 1\"></td><td title=\"8 1\"></td><td title=\"9 1\"></td><td title=\"10 1\"></td><td title=\"11 1\"></td><td title=\"12 1\"></td><td title=\"13 1\"></td></tr>\n",
       "<tr><td style=\"font-weight:bold\" title=\"0 2\">Flow</td><td style=\"font-weight:bold\" title=\"1 2\">EU / Non-EU</td><td style=\"font-weight:bold\" title=\"2 2\">NUTS1</td><td style=\"font-weight:bold\" title=\"3 2\">Statistical Value (£ million)</td><td style=\"font-weight:bold\" title=\"4 2\">Business Count</td><td title=\"5 2\"></td><td style=\"font-weight:bold\" title=\"6 2\">Flow</td><td style=\"font-weight:bold\" title=\"7 2\">EU / Non-EU</td><td style=\"font-weight:bold\" title=\"8 2\">Statistical Value (£ million)</td><td style=\"font-weight:bold\" title=\"9 2\">Business Count</td><td title=\"10 2\"></td><td style=\"font-weight:bold\" title=\"11 2\">Flow</td><td style=\"font-weight:bold\" title=\"12 2\">Statistical Value (£ million)</td><td style=\"font-weight:bold\" title=\"13 2\">Business Count</td></tr>\n",
       "<tr><td style=\"background-color:LightGray\" title=\"0 3\">Exp</td><td style=\"background-color:MistyRose\" title=\"1 3\">EU</td><td style=\"background-color:LightGray\" title=\"2 3\">East</td><td style=\"background-color:Aqua\" title=\"3 3\">15248.0</td><td title=\"4 3\">13962.0</td><td title=\"5 3\"></td><td style=\"background-color:LightGray\" title=\"6 3\">Exp</td><td style=\"background-color:MistyRose\" title=\"7 3\">EU</td><td style=\"background-color:Aqua\" title=\"8 3\">162271.0</td><td title=\"9 3\">119843.0</td><td title=\"10 3\"></td><td style=\"background-color:LightGray\" title=\"11 3\">Exp</td><td style=\"background-color:Aqua\" title=\"12 3\">328380.0</td><td title=\"13 3\">153046.0</td></tr>\n",
       "<tr><td style=\"background-color:LightGray\" title=\"0 4\">Exp</td><td style=\"background-color:MistyRose\" title=\"1 4\">EU</td><td style=\"background-color:LightGray\" title=\"2 4\">East Midlands</td><td style=\"background-color:Aqua\" title=\"3 4\">10712.0</td><td title=\"4 4\">10405.0</td><td title=\"5 4\"></td><td style=\"background-color:LightGray\" title=\"6 4\">Exp</td><td style=\"background-color:MistyRose\" title=\"7 4\">Non-EU</td><td style=\"background-color:Aqua\" title=\"8 4\">166109.0</td><td title=\"9 4\">75901.0</td><td title=\"10 4\"></td><td style=\"background-color:LightGray\" title=\"11 4\">Imp</td><td style=\"background-color:Aqua\" title=\"12 4\">468384.0</td><td title=\"13 4\">232537.0</td></tr>\n",
       "<tr><td style=\"background-color:LightGray\" title=\"0 5\">Exp</td><td style=\"background-color:MistyRose\" title=\"1 5\">EU</td><td style=\"background-color:LightGray\" title=\"2 5\">London</td><td style=\"background-color:Aqua\" title=\"3 5\">15181.0</td><td title=\"4 5\">20688.0</td><td title=\"5 5\"></td><td style=\"background-color:LightGray\" title=\"6 5\">Imp</td><td style=\"background-color:MistyRose\" title=\"7 5\">EU</td><td style=\"background-color:Aqua\" title=\"8 5\">256208.0</td><td title=\"9 5\">163463.0</td><td title=\"10 5\"></td><td title=\"11 5\"></td><td title=\"12 5\"></td><td title=\"13 5\">Source: HMRC Regional Trade in Goods Statistics data</td></tr>\n",
       "<tr><td style=\"background-color:LightGray\" title=\"0 6\">Exp</td><td style=\"background-color:MistyRose\" title=\"1 6\">EU</td><td style=\"background-color:LightGray\" title=\"2 6\">North East</td><td style=\"background-color:Aqua\" title=\"3 6\">7613.0</td><td title=\"4 6\">3377.0</td><td title=\"5 6\"></td><td style=\"background-color:LightGray\" title=\"6 6\">Imp</td><td style=\"background-color:MistyRose\" title=\"7 6\">Non-EU</td><td style=\"background-color:Aqua\" title=\"8 6\">212176.0</td><td title=\"9 6\">114498.0</td><td title=\"10 6\"></td><td title=\"11 6\"></td><td title=\"12 6\"></td><td title=\"13 6\"></td></tr>\n",
       "<tr><td style=\"background-color:LightGray\" title=\"0 7\">Exp</td><td style=\"background-color:MistyRose\" title=\"1 7\">EU</td><td style=\"background-color:LightGray\" title=\"2 7\">North West</td><td style=\"background-color:Aqua\" title=\"3 7\">14165.0</td><td title=\"4 7\">12781.0</td><td title=\"5 7\"></td><td title=\"6 7\"></td><td title=\"7 7\"></td><td title=\"8 7\"></td><td title=\"9 7\">Source: HMRC Regional Trade in Goods Statistics data</td><td title=\"10 7\"></td><td title=\"11 7\"></td><td title=\"12 7\"></td><td title=\"13 7\"></td></tr>\n",
       "<tr><td style=\"background-color:LightGray\" title=\"0 8\">Exp</td><td style=\"background-color:MistyRose\" title=\"1 8\">EU</td><td style=\"background-color:LightGray\" title=\"2 8\">Northern Ireland</td><td style=\"background-color:Aqua\" title=\"3 8\">4964.0</td><td title=\"4 8\">8298.0</td><td title=\"5 8\"></td><td title=\"6 8\"></td><td title=\"7 8\"></td><td title=\"8 8\"></td><td title=\"9 8\"></td><td title=\"10 8\"></td><td title=\"11 8\"></td><td title=\"12 8\"></td><td title=\"13 8\"></td></tr>\n",
       "<tr><td style=\"background-color:LightGray\" title=\"0 9\">Exp</td><td style=\"background-color:MistyRose\" title=\"1 9\">EU</td><td style=\"background-color:LightGray\" title=\"2 9\">Scotland</td><td style=\"background-color:Aqua\" title=\"3 9\">13987.0</td><td title=\"4 9\">6783.0</td><td title=\"5 9\"></td><td title=\"6 9\"></td><td title=\"7 9\"></td><td title=\"8 9\"></td><td title=\"9 9\"></td><td title=\"10 9\"></td><td title=\"11 9\"></td><td title=\"12 9\"></td><td title=\"13 9\"></td></tr>\n",
       "<tr><td style=\"background-color:LightGray\" title=\"0 10\">Exp</td><td style=\"background-color:MistyRose\" title=\"1 10\">EU</td><td style=\"background-color:LightGray\" title=\"2 10\">South East</td><td style=\"background-color:Aqua\" title=\"3 10\">22400.0</td><td title=\"4 10\">21421.0</td><td title=\"5 10\"></td><td title=\"6 10\"></td><td title=\"7 10\"></td><td title=\"8 10\"></td><td title=\"9 10\"></td><td title=\"10 10\"></td><td title=\"11 10\"></td><td title=\"12 10\"></td><td title=\"13 10\"></td></tr>\n",
       "<tr><td style=\"background-color:LightGray\" title=\"0 11\">Exp</td><td style=\"background-color:MistyRose\" title=\"1 11\">EU</td><td style=\"background-color:LightGray\" title=\"2 11\">South West</td><td style=\"background-color:Aqua\" title=\"3 11\">9254.0</td><td title=\"4 11\">11073.0</td><td title=\"5 11\"></td><td title=\"6 11\"></td><td title=\"7 11\"></td><td title=\"8 11\"></td><td title=\"9 11\"></td><td title=\"10 11\"></td><td title=\"11 11\"></td><td title=\"12 11\"></td><td title=\"13 11\"></td></tr>\n",
       "<tr><td style=\"background-color:LightGray\" title=\"0 12\">Exp</td><td style=\"background-color:MistyRose\" title=\"1 12\">EU</td><td style=\"background-color:LightGray\" title=\"2 12\">Wales</td><td style=\"background-color:Aqua\" title=\"3 12\">9963.0</td><td title=\"4 12\">4253.0</td><td title=\"5 12\"></td><td title=\"6 12\"></td><td title=\"7 12\"></td><td title=\"8 12\"></td><td title=\"9 12\"></td><td title=\"10 12\"></td><td title=\"11 12\"></td><td title=\"12 12\"></td><td title=\"13 12\"></td></tr>\n",
       "<tr><td style=\"background-color:LightGray\" title=\"0 13\">Exp</td><td style=\"background-color:MistyRose\" title=\"1 13\">EU</td><td style=\"background-color:LightGray\" title=\"2 13\">West Midlands</td><td style=\"background-color:Aqua\" title=\"3 13\">14695.0</td><td title=\"4 13\">12391.0</td><td title=\"5 13\"></td><td title=\"6 13\"></td><td title=\"7 13\"></td><td title=\"8 13\"></td><td title=\"9 13\"></td><td title=\"10 13\"></td><td title=\"11 13\"></td><td title=\"12 13\"></td><td title=\"13 13\"></td></tr>\n",
       "<tr><td style=\"background-color:LightGray\" title=\"0 14\">Exp</td><td style=\"background-color:MistyRose\" title=\"1 14\">EU</td><td style=\"background-color:LightGray\" title=\"2 14\">Yorkshire and The Humber</td><td style=\"background-color:Aqua\" title=\"3 14\">9697.0</td><td title=\"4 14\">9771.0</td><td title=\"5 14\"></td><td title=\"6 14\"></td><td title=\"7 14\"></td><td title=\"8 14\"></td><td title=\"9 14\"></td><td title=\"10 14\"></td><td title=\"11 14\"></td><td title=\"12 14\"></td><td title=\"13 14\"></td></tr>\n",
       "<tr><td style=\"background-color:LightGray\" title=\"0 15\">Exp</td><td style=\"background-color:MistyRose\" title=\"1 15\">EU</td><td style=\"background-color:LightGray\" title=\"2 15\">Unallocated - Known</td><td style=\"background-color:Aqua\" title=\"3 15\">14340.0</td><td title=\"4 15\">1674.0</td><td title=\"5 15\"></td><td title=\"6 15\"></td><td title=\"7 15\"></td><td title=\"8 15\"></td><td title=\"9 15\"></td><td title=\"10 15\"></td><td title=\"11 15\"></td><td title=\"12 15\"></td><td title=\"13 15\"></td></tr>\n",
       "<tr><td style=\"background-color:LightGray\" title=\"0 16\">Exp</td><td style=\"background-color:MistyRose\" title=\"1 16\">EU</td><td style=\"background-color:LightGray\" title=\"2 16\">Unallocated - Unknown</td><td style=\"background-color:Aqua\" title=\"3 16\">51.0</td><td title=\"4 16\">N/A</td><td title=\"5 16\"></td><td title=\"6 16\"></td><td title=\"7 16\"></td><td title=\"8 16\"></td><td title=\"9 16\"></td><td title=\"10 16\"></td><td title=\"11 16\"></td><td title=\"12 16\"></td><td title=\"13 16\"></td></tr>\n",
       "<tr><td title=\"0 17\"></td><td title=\"1 17\"></td><td title=\"2 17\"></td><td title=\"3 17\"></td><td title=\"4 17\"></td><td title=\"5 17\"></td><td title=\"6 17\"></td><td title=\"7 17\"></td><td title=\"8 17\"></td><td title=\"9 17\"></td><td title=\"10 17\"></td><td title=\"11 17\"></td><td title=\"12 17\"></td><td title=\"13 17\"></td></tr>\n",
       "<tr><td style=\"background-color:LightGray\" title=\"0 18\">Exp</td><td style=\"background-color:MistyRose\" title=\"1 18\">Non-EU</td><td style=\"background-color:LightGray\" title=\"2 18\">East</td><td style=\"background-color:Aqua\" title=\"3 18\">13702.0</td><td title=\"4 18\">9222.0</td><td title=\"5 18\"></td><td title=\"6 18\"></td><td title=\"7 18\"></td><td title=\"8 18\"></td><td title=\"9 18\"></td><td title=\"10 18\"></td><td title=\"11 18\"></td><td title=\"12 18\"></td><td title=\"13 18\"></td></tr>\n",
       "<tr><td style=\"background-color:LightGray\" title=\"0 19\">Exp</td><td style=\"background-color:MistyRose\" title=\"1 19\">Non-EU</td><td style=\"background-color:LightGray\" title=\"2 19\">East Midlands</td><td style=\"background-color:Aqua\" title=\"3 19\">9837.0</td><td title=\"4 19\">6766.0</td><td title=\"5 19\"></td><td title=\"6 19\"></td><td title=\"7 19\"></td><td title=\"8 19\"></td><td title=\"9 19\"></td><td title=\"10 19\"></td><td title=\"11 19\"></td><td title=\"12 19\"></td><td title=\"13 19\"></td></tr>\n",
       "<tr><td style=\"background-color:LightGray\" title=\"0 20\">Exp</td><td style=\"background-color:MistyRose\" title=\"1 20\">Non-EU</td><td style=\"background-color:LightGray\" title=\"2 20\">London</td><td style=\"background-color:Aqua\" title=\"3 20\">21031.0</td><td title=\"4 20\">15885.0</td><td title=\"5 20\"></td><td title=\"6 20\"></td><td title=\"7 20\"></td><td title=\"8 20\"></td><td title=\"9 20\"></td><td title=\"10 20\"></td><td title=\"11 20\"></td><td title=\"12 20\"></td><td title=\"13 20\"></td></tr>\n",
       "<tr><td style=\"background-color:LightGray\" title=\"0 21\">Exp</td><td style=\"background-color:MistyRose\" title=\"1 21\">Non-EU</td><td style=\"background-color:LightGray\" title=\"2 21\">North East</td><td style=\"background-color:Aqua\" title=\"3 21\">5299.0</td><td title=\"4 21\">2636.0</td><td title=\"5 21\"></td><td title=\"6 21\"></td><td title=\"7 21\"></td><td title=\"8 21\"></td><td title=\"9 21\"></td><td title=\"10 21\"></td><td title=\"11 21\"></td><td title=\"12 21\"></td><td title=\"13 21\"></td></tr>\n",
       "<tr><td style=\"background-color:LightGray\" title=\"0 22\">Exp</td><td style=\"background-color:MistyRose\" title=\"1 22\">Non-EU</td><td style=\"background-color:LightGray\" title=\"2 22\">North West</td><td style=\"background-color:Aqua\" title=\"3 22\">14538.0</td><td title=\"4 22\">8581.0</td><td title=\"5 22\"></td><td title=\"6 22\"></td><td title=\"7 22\"></td><td title=\"8 22\"></td><td title=\"9 22\"></td><td title=\"10 22\"></td><td title=\"11 22\"></td><td title=\"12 22\"></td><td title=\"13 22\"></td></tr>\n",
       "<tr><td style=\"background-color:LightGray\" title=\"0 23\">Exp</td><td style=\"background-color:MistyRose\" title=\"1 23\">Non-EU</td><td style=\"background-color:LightGray\" title=\"2 23\">Northern Ireland</td><td style=\"background-color:Aqua\" title=\"3 23\">3736.0</td><td title=\"4 23\">1584.0</td><td title=\"5 23\"></td><td title=\"6 23\"></td><td title=\"7 23\"></td><td title=\"8 23\"></td><td title=\"9 23\"></td><td title=\"10 23\"></td><td title=\"11 23\"></td><td title=\"12 23\"></td><td title=\"13 23\"></td></tr>\n",
       "<tr><td style=\"background-color:LightGray\" title=\"0 24\">Exp</td><td style=\"background-color:MistyRose\" title=\"1 24\">Non-EU</td><td style=\"background-color:LightGray\" title=\"2 24\">Scotland</td><td style=\"background-color:Aqua\" title=\"3 24\">14674.0</td><td title=\"4 24\">5272.0</td><td title=\"5 24\"></td><td title=\"6 24\"></td><td title=\"7 24\"></td><td title=\"8 24\"></td><td title=\"9 24\"></td><td title=\"10 24\"></td><td title=\"11 24\"></td><td title=\"12 24\"></td><td title=\"13 24\"></td></tr>\n",
       "<tr><td style=\"background-color:LightGray\" title=\"0 25\">Exp</td><td style=\"background-color:MistyRose\" title=\"1 25\">Non-EU</td><td style=\"background-color:LightGray\" title=\"2 25\">South East</td><td style=\"background-color:Aqua\" title=\"3 25\">22920.0</td><td title=\"4 25\">14265.0</td><td title=\"5 25\"></td><td title=\"6 25\"></td><td title=\"7 25\"></td><td title=\"8 25\"></td><td title=\"9 25\"></td><td title=\"10 25\"></td><td title=\"11 25\"></td><td title=\"12 25\"></td><td title=\"13 25\"></td></tr>\n",
       "<tr><td style=\"background-color:LightGray\" title=\"0 26\">Exp</td><td style=\"background-color:MistyRose\" title=\"1 26\">Non-EU</td><td style=\"background-color:LightGray\" title=\"2 26\">South West</td><td style=\"background-color:Aqua\" title=\"3 26\">11171.0</td><td title=\"4 26\">7314.0</td><td title=\"5 26\"></td><td title=\"6 26\"></td><td title=\"7 26\"></td><td title=\"8 26\"></td><td title=\"9 26\"></td><td title=\"10 26\"></td><td title=\"11 26\"></td><td title=\"12 26\"></td><td title=\"13 26\"></td></tr>\n",
       "<tr><td style=\"background-color:LightGray\" title=\"0 27\">Exp</td><td style=\"background-color:MistyRose\" title=\"1 27\">Non-EU</td><td style=\"background-color:LightGray\" title=\"2 27\">Wales</td><td style=\"background-color:Aqua\" title=\"3 27\">6516.0</td><td title=\"4 27\">2958.0</td><td title=\"5 27\"></td><td title=\"6 27\"></td><td title=\"7 27\"></td><td title=\"8 27\"></td><td title=\"9 27\"></td><td title=\"10 27\"></td><td title=\"11 27\"></td><td title=\"12 27\"></td><td title=\"13 27\"></td></tr>\n",
       "<tr><td style=\"background-color:LightGray\" title=\"0 28\">Exp</td><td style=\"background-color:MistyRose\" title=\"1 28\">Non-EU</td><td style=\"background-color:LightGray\" title=\"2 28\">West Midlands</td><td style=\"background-color:Aqua\" title=\"3 28\">18763.0</td><td title=\"4 28\">8137.0</td><td title=\"5 28\"></td><td title=\"6 28\"></td><td title=\"7 28\"></td><td title=\"8 28\"></td><td title=\"9 28\"></td><td title=\"10 28\"></td><td title=\"11 28\"></td><td title=\"12 28\"></td><td title=\"13 28\"></td></tr>\n",
       "<tr><td style=\"background-color:LightGray\" title=\"0 29\">Exp</td><td style=\"background-color:MistyRose\" title=\"1 29\">Non-EU</td><td style=\"background-color:LightGray\" title=\"2 29\">Yorkshire and The Humber</td><td style=\"background-color:Aqua\" title=\"3 29\">7122.0</td><td title=\"4 29\">6692.0</td><td title=\"5 29\"></td><td title=\"6 29\"></td><td title=\"7 29\"></td><td title=\"8 29\"></td><td title=\"9 29\"></td><td title=\"10 29\"></td><td title=\"11 29\"></td><td title=\"12 29\"></td><td title=\"13 29\"></td></tr>\n",
       "<tr><td style=\"background-color:LightGray\" title=\"0 30\">Exp</td><td style=\"background-color:MistyRose\" title=\"1 30\">Non-EU</td><td style=\"background-color:LightGray\" title=\"2 30\">Unallocated - Known</td><td style=\"background-color:Aqua\" title=\"3 30\">6454.0</td><td title=\"4 30\">5190.0</td><td title=\"5 30\"></td><td title=\"6 30\"></td><td title=\"7 30\"></td><td title=\"8 30\"></td><td title=\"9 30\"></td><td title=\"10 30\"></td><td title=\"11 30\"></td><td title=\"12 30\"></td><td title=\"13 30\"></td></tr>\n",
       "<tr><td style=\"background-color:LightGray\" title=\"0 31\">Exp</td><td style=\"background-color:MistyRose\" title=\"1 31\">Non-EU</td><td style=\"background-color:LightGray\" title=\"2 31\">Unallocated - Unknown</td><td style=\"background-color:Aqua\" title=\"3 31\">10345.0</td><td title=\"4 31\">N/A</td><td title=\"5 31\"></td><td title=\"6 31\"></td><td title=\"7 31\"></td><td title=\"8 31\"></td><td title=\"9 31\"></td><td title=\"10 31\"></td><td title=\"11 31\"></td><td title=\"12 31\"></td><td title=\"13 31\"></td></tr>\n",
       "<tr><td title=\"0 32\"></td><td title=\"1 32\"></td><td title=\"2 32\"></td><td title=\"3 32\"></td><td title=\"4 32\"></td><td title=\"5 32\"></td><td title=\"6 32\"></td><td title=\"7 32\"></td><td title=\"8 32\"></td><td title=\"9 32\"></td><td title=\"10 32\"></td><td title=\"11 32\"></td><td title=\"12 32\"></td><td title=\"13 32\"></td></tr>\n",
       "<tr><td style=\"background-color:LightGray\" title=\"0 33\">Imp</td><td style=\"background-color:MistyRose\" title=\"1 33\">EU</td><td style=\"background-color:LightGray\" title=\"2 33\">East</td><td style=\"background-color:Aqua\" title=\"3 33\">31398.0</td><td title=\"4 33\">18315.0</td><td title=\"5 33\"></td><td title=\"6 33\"></td><td title=\"7 33\"></td><td title=\"8 33\"></td><td title=\"9 33\"></td><td title=\"10 33\"></td><td title=\"11 33\"></td><td title=\"12 33\"></td><td title=\"13 33\"></td></tr>\n",
       "<tr><td style=\"background-color:LightGray\" title=\"0 34\">Imp</td><td style=\"background-color:MistyRose\" title=\"1 34\">EU</td><td style=\"background-color:LightGray\" title=\"2 34\">East Midlands</td><td style=\"background-color:Aqua\" title=\"3 34\">14964.0</td><td title=\"4 34\">13276.0</td><td title=\"5 34\"></td><td title=\"6 34\"></td><td title=\"7 34\"></td><td title=\"8 34\"></td><td title=\"9 34\"></td><td title=\"10 34\"></td><td title=\"11 34\"></td><td title=\"12 34\"></td><td title=\"13 34\"></td></tr>\n",
       "<tr><td style=\"background-color:LightGray\" title=\"0 35\">Imp</td><td style=\"background-color:MistyRose\" title=\"1 35\">EU</td><td style=\"background-color:LightGray\" title=\"2 35\">London</td><td style=\"background-color:Aqua\" title=\"3 35\">29511.0</td><td title=\"4 35\">29208.0</td><td title=\"5 35\"></td><td title=\"6 35\"></td><td title=\"7 35\"></td><td title=\"8 35\"></td><td title=\"9 35\"></td><td title=\"10 35\"></td><td title=\"11 35\"></td><td title=\"12 35\"></td><td title=\"13 35\"></td></tr>\n",
       "<tr><td style=\"background-color:LightGray\" title=\"0 36\">Imp</td><td style=\"background-color:MistyRose\" title=\"1 36\">EU</td><td style=\"background-color:LightGray\" title=\"2 36\">North East</td><td style=\"background-color:Aqua\" title=\"3 36\">7885.0</td><td title=\"4 36\">4549.0</td><td title=\"5 36\"></td><td title=\"6 36\"></td><td title=\"7 36\"></td><td title=\"8 36\"></td><td title=\"9 36\"></td><td title=\"10 36\"></td><td title=\"11 36\"></td><td title=\"12 36\"></td><td title=\"13 36\"></td></tr>\n",
       "<tr><td style=\"background-color:LightGray\" title=\"0 37\">Imp</td><td style=\"background-color:MistyRose\" title=\"1 37\">EU</td><td style=\"background-color:LightGray\" title=\"2 37\">North West</td><td style=\"background-color:Aqua\" title=\"3 37\">20619.0</td><td title=\"4 37\">16184.0</td><td title=\"5 37\"></td><td title=\"6 37\"></td><td title=\"7 37\"></td><td title=\"8 37\"></td><td title=\"9 37\"></td><td title=\"10 37\"></td><td title=\"11 37\"></td><td title=\"12 37\"></td><td title=\"13 37\"></td></tr>\n",
       "<tr><td style=\"background-color:LightGray\" title=\"0 38\">Imp</td><td style=\"background-color:MistyRose\" title=\"1 38\">EU</td><td style=\"background-color:LightGray\" title=\"2 38\">Northern Ireland</td><td style=\"background-color:Aqua\" title=\"3 38\">4797.0</td><td title=\"4 38\">13726.0</td><td title=\"5 38\"></td><td title=\"6 38\"></td><td title=\"7 38\"></td><td title=\"8 38\"></td><td title=\"9 38\"></td><td title=\"10 38\"></td><td title=\"11 38\"></td><td title=\"12 38\"></td><td title=\"13 38\"></td></tr>\n",
       "<tr><td style=\"background-color:LightGray\" title=\"0 39\">Imp</td><td style=\"background-color:MistyRose\" title=\"1 39\">EU</td><td style=\"background-color:LightGray\" title=\"2 39\">Scotland</td><td style=\"background-color:Aqua\" title=\"3 39\">9100.0</td><td title=\"4 39\">10537.0</td><td title=\"5 39\"></td><td title=\"6 39\"></td><td title=\"7 39\"></td><td title=\"8 39\"></td><td title=\"9 39\"></td><td title=\"10 39\"></td><td title=\"11 39\"></td><td title=\"12 39\"></td><td title=\"13 39\"></td></tr>\n",
       "<tr><td style=\"background-color:LightGray\" title=\"0 40\">Imp</td><td style=\"background-color:MistyRose\" title=\"1 40\">EU</td><td style=\"background-color:LightGray\" title=\"2 40\">South East</td><td style=\"background-color:Aqua\" title=\"3 40\">58052.0</td><td title=\"4 40\">28481.0</td><td title=\"5 40\"></td><td title=\"6 40\"></td><td title=\"7 40\"></td><td title=\"8 40\"></td><td title=\"9 40\"></td><td title=\"10 40\"></td><td title=\"11 40\"></td><td title=\"12 40\"></td><td title=\"13 40\"></td></tr>\n",
       "<tr><td style=\"background-color:LightGray\" title=\"0 41\">Imp</td><td style=\"background-color:MistyRose\" title=\"1 41\">EU</td><td style=\"background-color:LightGray\" title=\"2 41\">South West</td><td style=\"background-color:Aqua\" title=\"3 41\">10947.0</td><td title=\"4 41\">16088.0</td><td title=\"5 41\"></td><td title=\"6 41\"></td><td title=\"7 41\"></td><td title=\"8 41\"></td><td title=\"9 41\"></td><td title=\"10 41\"></td><td title=\"11 41\"></td><td title=\"12 41\"></td><td title=\"13 41\"></td></tr>\n",
       "<tr><td style=\"background-color:LightGray\" title=\"0 42\">Imp</td><td style=\"background-color:MistyRose\" title=\"1 42\">EU</td><td style=\"background-color:LightGray\" title=\"2 42\">Wales</td><td style=\"background-color:Aqua\" title=\"3 42\">7388.0</td><td title=\"4 42\">6030.0</td><td title=\"5 42\"></td><td title=\"6 42\"></td><td title=\"7 42\"></td><td title=\"8 42\"></td><td title=\"9 42\"></td><td title=\"10 42\"></td><td title=\"11 42\"></td><td title=\"12 42\"></td><td title=\"13 42\"></td></tr>\n",
       "<tr><td style=\"background-color:LightGray\" title=\"0 43\">Imp</td><td style=\"background-color:MistyRose\" title=\"1 43\">EU</td><td style=\"background-color:LightGray\" title=\"2 43\">West Midlands</td><td style=\"background-color:Aqua\" title=\"3 43\">22718.0</td><td title=\"4 43\">15009.0</td><td title=\"5 43\"></td><td title=\"6 43\"></td><td title=\"7 43\"></td><td title=\"8 43\"></td><td title=\"9 43\"></td><td title=\"10 43\"></td><td title=\"11 43\"></td><td title=\"12 43\"></td><td title=\"13 43\"></td></tr>\n",
       "<tr><td style=\"background-color:LightGray\" title=\"0 44\">Imp</td><td style=\"background-color:MistyRose\" title=\"1 44\">EU</td><td style=\"background-color:LightGray\" title=\"2 44\">Yorkshire and The Humber</td><td style=\"background-color:Aqua\" title=\"3 44\">16744.0</td><td title=\"4 44\">12615.0</td><td title=\"5 44\"></td><td title=\"6 44\"></td><td title=\"7 44\"></td><td title=\"8 44\"></td><td title=\"9 44\"></td><td title=\"10 44\"></td><td title=\"11 44\"></td><td title=\"12 44\"></td><td title=\"13 44\"></td></tr>\n",
       "<tr><td style=\"background-color:LightGray\" title=\"0 45\">Imp</td><td style=\"background-color:MistyRose\" title=\"1 45\">EU</td><td style=\"background-color:LightGray\" title=\"2 45\">Unallocated - Known</td><td style=\"background-color:Aqua\" title=\"3 45\">21485.0</td><td title=\"4 45\">2011.0</td><td title=\"5 45\"></td><td title=\"6 45\"></td><td title=\"7 45\"></td><td title=\"8 45\"></td><td title=\"9 45\"></td><td title=\"10 45\"></td><td title=\"11 45\"></td><td title=\"12 45\"></td><td title=\"13 45\"></td></tr>\n",
       "<tr><td style=\"background-color:LightGray\" title=\"0 46\">Imp</td><td style=\"background-color:MistyRose\" title=\"1 46\">EU</td><td style=\"background-color:LightGray\" title=\"2 46\">Unallocated - Unknown</td><td style=\"background-color:Aqua\" title=\"3 46\">601.0</td><td title=\"4 46\">N/A</td><td title=\"5 46\"></td><td title=\"6 46\"></td><td title=\"7 46\"></td><td title=\"8 46\"></td><td title=\"9 46\"></td><td title=\"10 46\"></td><td title=\"11 46\"></td><td title=\"12 46\"></td><td title=\"13 46\"></td></tr>\n",
       "<tr><td title=\"0 47\"></td><td title=\"1 47\"></td><td title=\"2 47\"></td><td title=\"3 47\"></td><td title=\"4 47\"></td><td title=\"5 47\"></td><td title=\"6 47\"></td><td title=\"7 47\"></td><td title=\"8 47\"></td><td title=\"9 47\"></td><td title=\"10 47\"></td><td title=\"11 47\"></td><td title=\"12 47\"></td><td title=\"13 47\"></td></tr>\n",
       "<tr><td style=\"background-color:LightGray\" title=\"0 48\">Imp</td><td style=\"background-color:MistyRose\" title=\"1 48\">Non-EU</td><td style=\"background-color:LightGray\" title=\"2 48\">East</td><td style=\"background-color:Aqua\" title=\"3 48\">16564.0</td><td title=\"4 48\">12629.0</td><td title=\"5 48\"></td><td title=\"6 48\"></td><td title=\"7 48\"></td><td title=\"8 48\"></td><td title=\"9 48\"></td><td title=\"10 48\"></td><td title=\"11 48\"></td><td title=\"12 48\"></td><td title=\"13 48\"></td></tr>\n",
       "<tr><td style=\"background-color:LightGray\" title=\"0 49\">Imp</td><td style=\"background-color:MistyRose\" title=\"1 49\">Non-EU</td><td style=\"background-color:LightGray\" title=\"2 49\">East Midlands</td><td style=\"background-color:Aqua\" title=\"3 49\">11383.0</td><td title=\"4 49\">8986.0</td><td title=\"5 49\"></td><td title=\"6 49\"></td><td title=\"7 49\"></td><td title=\"8 49\"></td><td title=\"9 49\"></td><td title=\"10 49\"></td><td title=\"11 49\"></td><td title=\"12 49\"></td><td title=\"13 49\"></td></tr>\n",
       "<tr><td style=\"background-color:LightGray\" title=\"0 50\">Imp</td><td style=\"background-color:MistyRose\" title=\"1 50\">Non-EU</td><td style=\"background-color:LightGray\" title=\"2 50\">London</td><td style=\"background-color:Aqua\" title=\"3 50\">32732.0</td><td title=\"4 50\">25909.0</td><td title=\"5 50\"></td><td title=\"6 50\"></td><td title=\"7 50\"></td><td title=\"8 50\"></td><td title=\"9 50\"></td><td title=\"10 50\"></td><td title=\"11 50\"></td><td title=\"12 50\"></td><td title=\"13 50\"></td></tr>\n",
       "<tr><td style=\"background-color:LightGray\" title=\"0 51\">Imp</td><td style=\"background-color:MistyRose\" title=\"1 51\">Non-EU</td><td style=\"background-color:LightGray\" title=\"2 51\">North East</td><td style=\"background-color:Aqua\" title=\"3 51\">5294.0</td><td title=\"4 51\">3387.0</td><td title=\"5 51\"></td><td title=\"6 51\"></td><td title=\"7 51\"></td><td title=\"8 51\"></td><td title=\"9 51\"></td><td title=\"10 51\"></td><td title=\"11 51\"></td><td title=\"12 51\"></td><td title=\"13 51\"></td></tr>\n",
       "<tr><td style=\"background-color:LightGray\" title=\"0 52\">Imp</td><td style=\"background-color:MistyRose\" title=\"1 52\">Non-EU</td><td style=\"background-color:LightGray\" title=\"2 52\">North West</td><td style=\"background-color:Aqua\" title=\"3 52\">16204.0</td><td title=\"4 52\">13901.0</td><td title=\"5 52\"></td><td title=\"6 52\"></td><td title=\"7 52\"></td><td title=\"8 52\"></td><td title=\"9 52\"></td><td title=\"10 52\"></td><td title=\"11 52\"></td><td title=\"12 52\"></td><td title=\"13 52\"></td></tr>\n",
       "<tr><td style=\"background-color:LightGray\" title=\"0 53\">Imp</td><td style=\"background-color:MistyRose\" title=\"1 53\">Non-EU</td><td style=\"background-color:LightGray\" title=\"2 53\">Northern Ireland</td><td style=\"background-color:Aqua\" title=\"3 53\">2641.0</td><td title=\"4 53\">2791.0</td><td title=\"5 53\"></td><td title=\"6 53\"></td><td title=\"7 53\"></td><td title=\"8 53\"></td><td title=\"9 53\"></td><td title=\"10 53\"></td><td title=\"11 53\"></td><td title=\"12 53\"></td><td title=\"13 53\"></td></tr>\n",
       "<tr><td style=\"background-color:LightGray\" title=\"0 54\">Imp</td><td style=\"background-color:MistyRose\" title=\"1 54\">Non-EU</td><td style=\"background-color:LightGray\" title=\"2 54\">Scotland</td><td style=\"background-color:Aqua\" title=\"3 54\">15117.0</td><td title=\"4 54\">6860.0</td><td title=\"5 54\"></td><td title=\"6 54\"></td><td title=\"7 54\"></td><td title=\"8 54\"></td><td title=\"9 54\"></td><td title=\"10 54\"></td><td title=\"11 54\"></td><td title=\"12 54\"></td><td title=\"13 54\"></td></tr>\n",
       "<tr><td style=\"background-color:LightGray\" title=\"0 55\">Imp</td><td style=\"background-color:MistyRose\" title=\"1 55\">Non-EU</td><td style=\"background-color:LightGray\" title=\"2 55\">South East</td><td style=\"background-color:Aqua\" title=\"3 55\">34164.0</td><td title=\"4 55\">19563.0</td><td title=\"5 55\"></td><td title=\"6 55\"></td><td title=\"7 55\"></td><td title=\"8 55\"></td><td title=\"9 55\"></td><td title=\"10 55\"></td><td title=\"11 55\"></td><td title=\"12 55\"></td><td title=\"13 55\"></td></tr>\n",
       "<tr><td style=\"background-color:LightGray\" title=\"0 56\">Imp</td><td style=\"background-color:MistyRose\" title=\"1 56\">Non-EU</td><td style=\"background-color:LightGray\" title=\"2 56\">South West</td><td style=\"background-color:Aqua\" title=\"3 56\">13843.0</td><td title=\"4 56\">9485.0</td><td title=\"5 56\"></td><td title=\"6 56\"></td><td title=\"7 56\"></td><td title=\"8 56\"></td><td title=\"9 56\"></td><td title=\"10 56\"></td><td title=\"11 56\"></td><td title=\"12 56\"></td><td title=\"13 56\"></td></tr>\n",
       "<tr><td style=\"background-color:LightGray\" title=\"0 57\">Imp</td><td style=\"background-color:MistyRose\" title=\"1 57\">Non-EU</td><td style=\"background-color:LightGray\" title=\"2 57\">Wales</td><td style=\"background-color:Aqua\" title=\"3 57\">10225.0</td><td title=\"4 57\">4075.0</td><td title=\"5 57\"></td><td title=\"6 57\"></td><td title=\"7 57\"></td><td title=\"8 57\"></td><td title=\"9 57\"></td><td title=\"10 57\"></td><td title=\"11 57\"></td><td title=\"12 57\"></td><td title=\"13 57\"></td></tr>\n",
       "<tr><td style=\"background-color:LightGray\" title=\"0 58\">Imp</td><td style=\"background-color:MistyRose\" title=\"1 58\">Non-EU</td><td style=\"background-color:LightGray\" title=\"2 58\">West Midlands</td><td style=\"background-color:Aqua\" title=\"3 58\">13951.0</td><td title=\"4 58\">11222.0</td><td title=\"5 58\"></td><td title=\"6 58\"></td><td title=\"7 58\"></td><td title=\"8 58\"></td><td title=\"9 58\"></td><td title=\"10 58\"></td><td title=\"11 58\"></td><td title=\"12 58\"></td><td title=\"13 58\"></td></tr>\n",
       "<tr><td style=\"background-color:LightGray\" title=\"0 59\">Imp</td><td style=\"background-color:MistyRose\" title=\"1 59\">Non-EU</td><td style=\"background-color:LightGray\" title=\"2 59\">Yorkshire and The Humber</td><td style=\"background-color:Aqua\" title=\"3 59\">16322.0</td><td title=\"4 59\">8902.0</td><td title=\"5 59\"></td><td title=\"6 59\"></td><td title=\"7 59\"></td><td title=\"8 59\"></td><td title=\"9 59\"></td><td title=\"10 59\"></td><td title=\"11 59\"></td><td title=\"12 59\"></td><td title=\"13 59\"></td></tr>\n",
       "<tr><td style=\"background-color:LightGray\" title=\"0 60\">Imp</td><td style=\"background-color:MistyRose\" title=\"1 60\">Non-EU</td><td style=\"background-color:LightGray\" title=\"2 60\">Unallocated - Known</td><td style=\"background-color:Aqua\" title=\"3 60\">12895.0</td><td title=\"4 60\">7544.0</td><td title=\"5 60\"></td><td title=\"6 60\"></td><td title=\"7 60\"></td><td title=\"8 60\"></td><td title=\"9 60\"></td><td title=\"10 60\"></td><td title=\"11 60\"></td><td title=\"12 60\"></td><td title=\"13 60\"></td></tr>\n",
       "<tr><td style=\"background-color:LightGray\" title=\"0 61\">Imp</td><td style=\"background-color:MistyRose\" title=\"1 61\">Non-EU</td><td style=\"background-color:LightGray\" title=\"2 61\">Unallocated - Unknown</td><td style=\"background-color:Aqua\" title=\"3 61\">10841.0</td><td title=\"4 61\">N/A</td><td title=\"5 61\"></td><td title=\"6 61\"></td><td title=\"7 61\"></td><td title=\"8 61\"></td><td title=\"9 61\"></td><td title=\"10 61\"></td><td title=\"11 61\"></td><td title=\"12 61\"></td><td title=\"13 61\"></td></tr>\n",
       "<tr><td title=\"0 62\"></td><td title=\"1 62\"></td><td title=\"2 62\"></td><td title=\"3 62\"></td><td title=\"4 62\">Source: HMRC Regional Trade in Goods Statistics data</td><td title=\"5 62\"></td><td title=\"6 62\"></td><td title=\"7 62\"></td><td title=\"8 62\"></td><td title=\"9 62\"></td><td title=\"10 62\"></td><td title=\"11 62\"></td><td title=\"12 62\"></td><td title=\"13 62\"></td></tr>\n",
       "</table>\n",
       "\n",
       "</div>\n",
       "\n",
       "<script>\n",
       "var jslookup = {\"3 37\":[0,37,1,37,2,37],\"3 11\":[0,11,1,11,2,11],\"3 42\":[0,42,1,42,2,42],\"3 33\":[0,33,1,33,2,33],\"3 39\":[0,39,1,39,2,39],\"3 3\":[0,3,1,3,2,3],\"3 52\":[0,52,1,52,2,52],\"3 30\":[0,30,1,30,2,30],\"3 60\":[0,60,1,60,2,60],\"3 50\":[0,50,1,50,2,50],\"3 55\":[0,55,1,55,2,55],\"3 57\":[0,57,1,57,2,57],\"3 23\":[0,23,1,23,2,23],\"3 4\":[0,4,1,4,2,4],\"3 56\":[0,56,1,56,2,56],\"3 58\":[0,58,1,58,2,58],\"3 51\":[0,51,1,51,2,51],\"3 36\":[0,36,1,36,2,36],\"8 3\":[6,3,7,3,6,3],\"3 21\":[0,21,1,21,2,21],\"3 25\":[0,25,1,25,2,25],\"3 48\":[0,48,1,48,2,48],\"3 38\":[0,38,1,38,2,38],\"3 7\":[0,7,1,7,2,7],\"8 6\":[6,6,7,6,6,6],\"3 59\":[0,59,1,59,2,59],\"12 3\":[11,3,11,3,11,3],\"3 54\":[0,54,1,54,2,54],\"8 5\":[6,5,7,5,6,5],\"3 46\":[0,46,1,46,2,46],\"3 10\":[0,10,1,10,2,10],\"3 43\":[0,43,1,43,2,43],\"3 53\":[0,53,1,53,2,53],\"3 5\":[0,5,1,5,2,5],\"3 8\":[0,8,1,8,2,8],\"3 44\":[0,44,1,44,2,44],\"3 34\":[0,34,1,34,2,34],\"3 15\":[0,15,1,15,2,15],\"3 18\":[0,18,1,18,2,18],\"3 40\":[0,40,1,40,2,40],\"3 16\":[0,16,1,16,2,16],\"3 20\":[0,20,1,20,2,20],\"3 6\":[0,6,1,6,2,6],\"3 22\":[0,22,1,22,2,22],\"3 31\":[0,31,1,31,2,31],\"3 19\":[0,19,1,19,2,19],\"3 26\":[0,26,1,26,2,26],\"3 13\":[0,13,1,13,2,13],\"3 14\":[0,14,1,14,2,14],\"3 28\":[0,28,1,28,2,28],\"3 49\":[0,49,1,49,2,49],\"3 24\":[0,24,1,24,2,24],\"3 45\":[0,45,1,45,2,45],\"3 61\":[0,61,1,61,2,61],\"3 35\":[0,35,1,35,2,35],\"8 4\":[6,4,7,4,6,4],\"3 12\":[0,12,1,12,2,12],\"3 27\":[0,27,1,27,2,27],\"3 9\":[0,9,1,9,2,9],\"3 41\":[0,41,1,41,2,41],\"3 29\":[0,29,1,29,2,29],\"12 4\":[11,4,11,4,11,4]}; \n",
       "var jdividNUM = \"injblock1001\"; \n",
       "var Dclickedcell = null; \n",
       "function clickedcell() \n",
       "{ \n",
       "    Dclickedcell = this; \n",
       "    console.log(\"jjjj\", this); \n",
       "    var rgc = new RegExp('(^|\\b)' + \"selected\".split(' ').join('|') + '(\\b|$)', 'gi'); \n",
       "    Array.prototype.forEach.call(document.querySelectorAll(\"div#\"+jdividNUM+\" table.ex td.selected\"), function(el, i) { \n",
       "        if (el.classList)  el.classList.remove(\"selected\");\n",
       "        else  el.className = el.className.replace(rgc, ' ');\n",
       "    }); \n",
       "    if (this.classList)  this.classList.add(\"selected\");\n",
       "    else this.className += ' ' + \"selected\";\n",
       "\n",
       "    var dimpairs = jslookup[this.title]; \n",
       "    if (dimpairs !== undefined) {\n",
       "        for (var i = 1; i < dimpairs.length; i += 2) {\n",
       "            var row = document.querySelectorAll(\"div#\"+jdividNUM+\" table.ex tr\")[dimpairs[i]]; \n",
       "            var el = row.querySelectorAll(\"td\")[dimpairs[i-1]]; \n",
       "            if (el.classList)  el.classList.add(\"selected\");\n",
       "            else el.className += ' ' + \"selected\";\n",
       "        }\n",
       "    }\n",
       "}\n",
       "Array.prototype.forEach.call(document.querySelectorAll(\"div#\"+jdividNUM+\" table.ex td\"), function(item, i) { item.onclick=clickedcell; }); \n",
       "</script>\n"
      ],
      "text/plain": [
       "<IPython.core.display.HTML object>"
      ]
     },
     "metadata": {},
     "output_type": "display_data"
    }
   ],
   "source": [
    "savepreviewhtml(c1)"
   ]
  },
  {
   "cell_type": "code",
   "execution_count": 6,
   "metadata": {},
   "outputs": [
    {
     "name": "stdout",
     "output_type": "stream",
     "text": [
      "\n"
     ]
    },
    {
     "name": "stderr",
     "output_type": "stream",
     "text": [
      "/home/alex/.virtualenvs/databaker/lib/python3.7/site-packages/ipykernel_launcher.py:14: FutureWarning: Sorting because non-concatenation axis is not aligned. A future version\n",
      "of pandas will change to not sort by default.\n",
      "\n",
      "To accept the future behavior, pass 'sort=False'.\n",
      "\n",
      "To retain the current behavior and silence the warning, pass 'sort=True'.\n",
      "\n",
      "  \n"
     ]
    }
   ],
   "source": [
    "observations1 = tab.filter('Business Count').fill(DOWN).is_not_blank().is_not_whitespace()\n",
    "observations1 = observations1.filter(lambda x: type(x.value) != str or 'HMRC' not in x.value)\n",
    "Dimensions = [\n",
    "            HDim(flow,'Flow',DIRECTLY,LEFT),\n",
    "            HDim(geography,'HMRC Partner Geography',DIRECTLY,LEFT),\n",
    "            HDim(nut,'NUTS Geography',DIRECTLY,LEFT),\n",
    "            HDimConst('Measure Type', 'Count of Businesses'),\n",
    "            HDimConst('SITC 4', 'all'),\n",
    "            HDimConst('Unit', 'businesses'),\n",
    "            HDimConst('Year', '2017')\n",
    "            ]\n",
    "c2 = ConversionSegment(observations1, Dimensions, processTIMEUNIT=True)\n",
    "table2 = c2.topandas()\n",
    "tidy = pd.concat([tidy, table2])"
   ]
  },
  {
   "cell_type": "code",
   "execution_count": 7,
   "metadata": {},
   "outputs": [
    {
     "data": {
      "text/html": [
       "<div id=\"injblock1002\">\n",
       "<style>\n",
       "table.ex, table.exkey { border: thin black solid }\n",
       "table.ex td, table.ex tr { border: none }\n",
       "table.ex td:hover { border: thin blue solid }\n",
       "table.ex td.excOBS:hover { border: thin red solid }\n",
       "table.ex td.selected { border: thick red solid }\n",
       "</style>\n",
       "\n",
       "\n",
       "<table class=\"exkey\">\n",
       "<tr><td class=\"xc0\" style=\"background-color:Aqua\">OBS</td><td class=\"xc1\" style=\"background-color:LightGreen\">Flow</td><td class=\"xc2\" style=\"background-color:MistyRose\">HMRC Partner Geography</td><td class=\"xc3\" style=\"background-color:LightGray\">NUTS Geography</td></tr></table>\n",
       "\n",
       "<table class=\"ex\">\n",
       "<caption style=\"text-align:center; padding:0px; caption-side:bottom\">T1 NUTS1 (Summary Data)</caption>\n",
       "<tr><td style=\"font-weight:bold\" title=\"0 0\">Table 1 - NUTS1 by Flow - 2017</td><td style=\"font-weight:bold\" title=\"1 0\"></td><td style=\"font-weight:bold\" title=\"2 0\"></td><td title=\"3 0\"></td><td title=\"4 0\"></td><td title=\"5 0\"></td><td title=\"6 0\"></td><td title=\"7 0\"></td><td title=\"8 0\"></td><td title=\"9 0\"></td><td title=\"10 0\"></td><td title=\"11 0\"></td><td title=\"12 0\"></td><td title=\"13 0\"></td></tr>\n",
       "<tr><td title=\"0 1\"></td><td title=\"1 1\"></td><td title=\"2 1\"></td><td title=\"3 1\"></td><td title=\"4 1\"></td><td title=\"5 1\"></td><td title=\"6 1\"></td><td title=\"7 1\"></td><td title=\"8 1\"></td><td title=\"9 1\"></td><td title=\"10 1\"></td><td title=\"11 1\"></td><td title=\"12 1\"></td><td title=\"13 1\"></td></tr>\n",
       "<tr><td style=\"font-weight:bold\" title=\"0 2\">Flow</td><td style=\"font-weight:bold\" title=\"1 2\">EU / Non-EU</td><td style=\"font-weight:bold\" title=\"2 2\">NUTS1</td><td style=\"font-weight:bold\" title=\"3 2\">Statistical Value (£ million)</td><td style=\"font-weight:bold\" title=\"4 2\">Business Count</td><td title=\"5 2\"></td><td style=\"font-weight:bold\" title=\"6 2\">Flow</td><td style=\"font-weight:bold\" title=\"7 2\">EU / Non-EU</td><td style=\"font-weight:bold\" title=\"8 2\">Statistical Value (£ million)</td><td style=\"font-weight:bold\" title=\"9 2\">Business Count</td><td title=\"10 2\"></td><td style=\"font-weight:bold\" title=\"11 2\">Flow</td><td style=\"font-weight:bold\" title=\"12 2\">Statistical Value (£ million)</td><td style=\"font-weight:bold\" title=\"13 2\">Business Count</td></tr>\n",
       "<tr><td style=\"background-color:LightGray\" title=\"0 3\">Exp</td><td style=\"background-color:MistyRose\" title=\"1 3\">EU</td><td style=\"background-color:LightGray\" title=\"2 3\">East</td><td title=\"3 3\">15248.0</td><td style=\"background-color:Aqua\" title=\"4 3\">13962.0</td><td title=\"5 3\"></td><td style=\"background-color:LightGray\" title=\"6 3\">Exp</td><td style=\"background-color:MistyRose\" title=\"7 3\">EU</td><td title=\"8 3\">162271.0</td><td style=\"background-color:Aqua\" title=\"9 3\">119843.0</td><td title=\"10 3\"></td><td style=\"background-color:LightGray\" title=\"11 3\">Exp</td><td title=\"12 3\">328380.0</td><td style=\"background-color:Aqua\" title=\"13 3\">153046.0</td></tr>\n",
       "<tr><td style=\"background-color:LightGray\" title=\"0 4\">Exp</td><td style=\"background-color:MistyRose\" title=\"1 4\">EU</td><td style=\"background-color:LightGray\" title=\"2 4\">East Midlands</td><td title=\"3 4\">10712.0</td><td style=\"background-color:Aqua\" title=\"4 4\">10405.0</td><td title=\"5 4\"></td><td style=\"background-color:LightGray\" title=\"6 4\">Exp</td><td style=\"background-color:MistyRose\" title=\"7 4\">Non-EU</td><td title=\"8 4\">166109.0</td><td style=\"background-color:Aqua\" title=\"9 4\">75901.0</td><td title=\"10 4\"></td><td style=\"background-color:LightGray\" title=\"11 4\">Imp</td><td title=\"12 4\">468384.0</td><td style=\"background-color:Aqua\" title=\"13 4\">232537.0</td></tr>\n",
       "<tr><td style=\"background-color:LightGray\" title=\"0 5\">Exp</td><td style=\"background-color:MistyRose\" title=\"1 5\">EU</td><td style=\"background-color:LightGray\" title=\"2 5\">London</td><td title=\"3 5\">15181.0</td><td style=\"background-color:Aqua\" title=\"4 5\">20688.0</td><td title=\"5 5\"></td><td style=\"background-color:LightGray\" title=\"6 5\">Imp</td><td style=\"background-color:MistyRose\" title=\"7 5\">EU</td><td title=\"8 5\">256208.0</td><td style=\"background-color:Aqua\" title=\"9 5\">163463.0</td><td title=\"10 5\"></td><td title=\"11 5\"></td><td title=\"12 5\"></td><td title=\"13 5\">Source: HMRC Regional Trade in Goods Statistics data</td></tr>\n",
       "<tr><td style=\"background-color:LightGray\" title=\"0 6\">Exp</td><td style=\"background-color:MistyRose\" title=\"1 6\">EU</td><td style=\"background-color:LightGray\" title=\"2 6\">North East</td><td title=\"3 6\">7613.0</td><td style=\"background-color:Aqua\" title=\"4 6\">3377.0</td><td title=\"5 6\"></td><td style=\"background-color:LightGray\" title=\"6 6\">Imp</td><td style=\"background-color:MistyRose\" title=\"7 6\">Non-EU</td><td title=\"8 6\">212176.0</td><td style=\"background-color:Aqua\" title=\"9 6\">114498.0</td><td title=\"10 6\"></td><td title=\"11 6\"></td><td title=\"12 6\"></td><td title=\"13 6\"></td></tr>\n",
       "<tr><td style=\"background-color:LightGray\" title=\"0 7\">Exp</td><td style=\"background-color:MistyRose\" title=\"1 7\">EU</td><td style=\"background-color:LightGray\" title=\"2 7\">North West</td><td title=\"3 7\">14165.0</td><td style=\"background-color:Aqua\" title=\"4 7\">12781.0</td><td title=\"5 7\"></td><td title=\"6 7\"></td><td title=\"7 7\"></td><td title=\"8 7\"></td><td title=\"9 7\">Source: HMRC Regional Trade in Goods Statistics data</td><td title=\"10 7\"></td><td title=\"11 7\"></td><td title=\"12 7\"></td><td title=\"13 7\"></td></tr>\n",
       "<tr><td style=\"background-color:LightGray\" title=\"0 8\">Exp</td><td style=\"background-color:MistyRose\" title=\"1 8\">EU</td><td style=\"background-color:LightGray\" title=\"2 8\">Northern Ireland</td><td title=\"3 8\">4964.0</td><td style=\"background-color:Aqua\" title=\"4 8\">8298.0</td><td title=\"5 8\"></td><td title=\"6 8\"></td><td title=\"7 8\"></td><td title=\"8 8\"></td><td title=\"9 8\"></td><td title=\"10 8\"></td><td title=\"11 8\"></td><td title=\"12 8\"></td><td title=\"13 8\"></td></tr>\n",
       "<tr><td style=\"background-color:LightGray\" title=\"0 9\">Exp</td><td style=\"background-color:MistyRose\" title=\"1 9\">EU</td><td style=\"background-color:LightGray\" title=\"2 9\">Scotland</td><td title=\"3 9\">13987.0</td><td style=\"background-color:Aqua\" title=\"4 9\">6783.0</td><td title=\"5 9\"></td><td title=\"6 9\"></td><td title=\"7 9\"></td><td title=\"8 9\"></td><td title=\"9 9\"></td><td title=\"10 9\"></td><td title=\"11 9\"></td><td title=\"12 9\"></td><td title=\"13 9\"></td></tr>\n",
       "<tr><td style=\"background-color:LightGray\" title=\"0 10\">Exp</td><td style=\"background-color:MistyRose\" title=\"1 10\">EU</td><td style=\"background-color:LightGray\" title=\"2 10\">South East</td><td title=\"3 10\">22400.0</td><td style=\"background-color:Aqua\" title=\"4 10\">21421.0</td><td title=\"5 10\"></td><td title=\"6 10\"></td><td title=\"7 10\"></td><td title=\"8 10\"></td><td title=\"9 10\"></td><td title=\"10 10\"></td><td title=\"11 10\"></td><td title=\"12 10\"></td><td title=\"13 10\"></td></tr>\n",
       "<tr><td style=\"background-color:LightGray\" title=\"0 11\">Exp</td><td style=\"background-color:MistyRose\" title=\"1 11\">EU</td><td style=\"background-color:LightGray\" title=\"2 11\">South West</td><td title=\"3 11\">9254.0</td><td style=\"background-color:Aqua\" title=\"4 11\">11073.0</td><td title=\"5 11\"></td><td title=\"6 11\"></td><td title=\"7 11\"></td><td title=\"8 11\"></td><td title=\"9 11\"></td><td title=\"10 11\"></td><td title=\"11 11\"></td><td title=\"12 11\"></td><td title=\"13 11\"></td></tr>\n",
       "<tr><td style=\"background-color:LightGray\" title=\"0 12\">Exp</td><td style=\"background-color:MistyRose\" title=\"1 12\">EU</td><td style=\"background-color:LightGray\" title=\"2 12\">Wales</td><td title=\"3 12\">9963.0</td><td style=\"background-color:Aqua\" title=\"4 12\">4253.0</td><td title=\"5 12\"></td><td title=\"6 12\"></td><td title=\"7 12\"></td><td title=\"8 12\"></td><td title=\"9 12\"></td><td title=\"10 12\"></td><td title=\"11 12\"></td><td title=\"12 12\"></td><td title=\"13 12\"></td></tr>\n",
       "<tr><td style=\"background-color:LightGray\" title=\"0 13\">Exp</td><td style=\"background-color:MistyRose\" title=\"1 13\">EU</td><td style=\"background-color:LightGray\" title=\"2 13\">West Midlands</td><td title=\"3 13\">14695.0</td><td style=\"background-color:Aqua\" title=\"4 13\">12391.0</td><td title=\"5 13\"></td><td title=\"6 13\"></td><td title=\"7 13\"></td><td title=\"8 13\"></td><td title=\"9 13\"></td><td title=\"10 13\"></td><td title=\"11 13\"></td><td title=\"12 13\"></td><td title=\"13 13\"></td></tr>\n",
       "<tr><td style=\"background-color:LightGray\" title=\"0 14\">Exp</td><td style=\"background-color:MistyRose\" title=\"1 14\">EU</td><td style=\"background-color:LightGray\" title=\"2 14\">Yorkshire and The Humber</td><td title=\"3 14\">9697.0</td><td style=\"background-color:Aqua\" title=\"4 14\">9771.0</td><td title=\"5 14\"></td><td title=\"6 14\"></td><td title=\"7 14\"></td><td title=\"8 14\"></td><td title=\"9 14\"></td><td title=\"10 14\"></td><td title=\"11 14\"></td><td title=\"12 14\"></td><td title=\"13 14\"></td></tr>\n",
       "<tr><td style=\"background-color:LightGray\" title=\"0 15\">Exp</td><td style=\"background-color:MistyRose\" title=\"1 15\">EU</td><td style=\"background-color:LightGray\" title=\"2 15\">Unallocated - Known</td><td title=\"3 15\">14340.0</td><td style=\"background-color:Aqua\" title=\"4 15\">1674.0</td><td title=\"5 15\"></td><td title=\"6 15\"></td><td title=\"7 15\"></td><td title=\"8 15\"></td><td title=\"9 15\"></td><td title=\"10 15\"></td><td title=\"11 15\"></td><td title=\"12 15\"></td><td title=\"13 15\"></td></tr>\n",
       "<tr><td style=\"background-color:LightGray\" title=\"0 16\">Exp</td><td style=\"background-color:MistyRose\" title=\"1 16\">EU</td><td style=\"background-color:LightGray\" title=\"2 16\">Unallocated - Unknown</td><td title=\"3 16\">51.0</td><td style=\"background-color:Aqua\" title=\"4 16\">N/A</td><td title=\"5 16\"></td><td title=\"6 16\"></td><td title=\"7 16\"></td><td title=\"8 16\"></td><td title=\"9 16\"></td><td title=\"10 16\"></td><td title=\"11 16\"></td><td title=\"12 16\"></td><td title=\"13 16\"></td></tr>\n",
       "<tr><td title=\"0 17\"></td><td title=\"1 17\"></td><td title=\"2 17\"></td><td title=\"3 17\"></td><td title=\"4 17\"></td><td title=\"5 17\"></td><td title=\"6 17\"></td><td title=\"7 17\"></td><td title=\"8 17\"></td><td title=\"9 17\"></td><td title=\"10 17\"></td><td title=\"11 17\"></td><td title=\"12 17\"></td><td title=\"13 17\"></td></tr>\n",
       "<tr><td style=\"background-color:LightGray\" title=\"0 18\">Exp</td><td style=\"background-color:MistyRose\" title=\"1 18\">Non-EU</td><td style=\"background-color:LightGray\" title=\"2 18\">East</td><td title=\"3 18\">13702.0</td><td style=\"background-color:Aqua\" title=\"4 18\">9222.0</td><td title=\"5 18\"></td><td title=\"6 18\"></td><td title=\"7 18\"></td><td title=\"8 18\"></td><td title=\"9 18\"></td><td title=\"10 18\"></td><td title=\"11 18\"></td><td title=\"12 18\"></td><td title=\"13 18\"></td></tr>\n",
       "<tr><td style=\"background-color:LightGray\" title=\"0 19\">Exp</td><td style=\"background-color:MistyRose\" title=\"1 19\">Non-EU</td><td style=\"background-color:LightGray\" title=\"2 19\">East Midlands</td><td title=\"3 19\">9837.0</td><td style=\"background-color:Aqua\" title=\"4 19\">6766.0</td><td title=\"5 19\"></td><td title=\"6 19\"></td><td title=\"7 19\"></td><td title=\"8 19\"></td><td title=\"9 19\"></td><td title=\"10 19\"></td><td title=\"11 19\"></td><td title=\"12 19\"></td><td title=\"13 19\"></td></tr>\n",
       "<tr><td style=\"background-color:LightGray\" title=\"0 20\">Exp</td><td style=\"background-color:MistyRose\" title=\"1 20\">Non-EU</td><td style=\"background-color:LightGray\" title=\"2 20\">London</td><td title=\"3 20\">21031.0</td><td style=\"background-color:Aqua\" title=\"4 20\">15885.0</td><td title=\"5 20\"></td><td title=\"6 20\"></td><td title=\"7 20\"></td><td title=\"8 20\"></td><td title=\"9 20\"></td><td title=\"10 20\"></td><td title=\"11 20\"></td><td title=\"12 20\"></td><td title=\"13 20\"></td></tr>\n",
       "<tr><td style=\"background-color:LightGray\" title=\"0 21\">Exp</td><td style=\"background-color:MistyRose\" title=\"1 21\">Non-EU</td><td style=\"background-color:LightGray\" title=\"2 21\">North East</td><td title=\"3 21\">5299.0</td><td style=\"background-color:Aqua\" title=\"4 21\">2636.0</td><td title=\"5 21\"></td><td title=\"6 21\"></td><td title=\"7 21\"></td><td title=\"8 21\"></td><td title=\"9 21\"></td><td title=\"10 21\"></td><td title=\"11 21\"></td><td title=\"12 21\"></td><td title=\"13 21\"></td></tr>\n",
       "<tr><td style=\"background-color:LightGray\" title=\"0 22\">Exp</td><td style=\"background-color:MistyRose\" title=\"1 22\">Non-EU</td><td style=\"background-color:LightGray\" title=\"2 22\">North West</td><td title=\"3 22\">14538.0</td><td style=\"background-color:Aqua\" title=\"4 22\">8581.0</td><td title=\"5 22\"></td><td title=\"6 22\"></td><td title=\"7 22\"></td><td title=\"8 22\"></td><td title=\"9 22\"></td><td title=\"10 22\"></td><td title=\"11 22\"></td><td title=\"12 22\"></td><td title=\"13 22\"></td></tr>\n",
       "<tr><td style=\"background-color:LightGray\" title=\"0 23\">Exp</td><td style=\"background-color:MistyRose\" title=\"1 23\">Non-EU</td><td style=\"background-color:LightGray\" title=\"2 23\">Northern Ireland</td><td title=\"3 23\">3736.0</td><td style=\"background-color:Aqua\" title=\"4 23\">1584.0</td><td title=\"5 23\"></td><td title=\"6 23\"></td><td title=\"7 23\"></td><td title=\"8 23\"></td><td title=\"9 23\"></td><td title=\"10 23\"></td><td title=\"11 23\"></td><td title=\"12 23\"></td><td title=\"13 23\"></td></tr>\n",
       "<tr><td style=\"background-color:LightGray\" title=\"0 24\">Exp</td><td style=\"background-color:MistyRose\" title=\"1 24\">Non-EU</td><td style=\"background-color:LightGray\" title=\"2 24\">Scotland</td><td title=\"3 24\">14674.0</td><td style=\"background-color:Aqua\" title=\"4 24\">5272.0</td><td title=\"5 24\"></td><td title=\"6 24\"></td><td title=\"7 24\"></td><td title=\"8 24\"></td><td title=\"9 24\"></td><td title=\"10 24\"></td><td title=\"11 24\"></td><td title=\"12 24\"></td><td title=\"13 24\"></td></tr>\n",
       "<tr><td style=\"background-color:LightGray\" title=\"0 25\">Exp</td><td style=\"background-color:MistyRose\" title=\"1 25\">Non-EU</td><td style=\"background-color:LightGray\" title=\"2 25\">South East</td><td title=\"3 25\">22920.0</td><td style=\"background-color:Aqua\" title=\"4 25\">14265.0</td><td title=\"5 25\"></td><td title=\"6 25\"></td><td title=\"7 25\"></td><td title=\"8 25\"></td><td title=\"9 25\"></td><td title=\"10 25\"></td><td title=\"11 25\"></td><td title=\"12 25\"></td><td title=\"13 25\"></td></tr>\n",
       "<tr><td style=\"background-color:LightGray\" title=\"0 26\">Exp</td><td style=\"background-color:MistyRose\" title=\"1 26\">Non-EU</td><td style=\"background-color:LightGray\" title=\"2 26\">South West</td><td title=\"3 26\">11171.0</td><td style=\"background-color:Aqua\" title=\"4 26\">7314.0</td><td title=\"5 26\"></td><td title=\"6 26\"></td><td title=\"7 26\"></td><td title=\"8 26\"></td><td title=\"9 26\"></td><td title=\"10 26\"></td><td title=\"11 26\"></td><td title=\"12 26\"></td><td title=\"13 26\"></td></tr>\n",
       "<tr><td style=\"background-color:LightGray\" title=\"0 27\">Exp</td><td style=\"background-color:MistyRose\" title=\"1 27\">Non-EU</td><td style=\"background-color:LightGray\" title=\"2 27\">Wales</td><td title=\"3 27\">6516.0</td><td style=\"background-color:Aqua\" title=\"4 27\">2958.0</td><td title=\"5 27\"></td><td title=\"6 27\"></td><td title=\"7 27\"></td><td title=\"8 27\"></td><td title=\"9 27\"></td><td title=\"10 27\"></td><td title=\"11 27\"></td><td title=\"12 27\"></td><td title=\"13 27\"></td></tr>\n",
       "<tr><td style=\"background-color:LightGray\" title=\"0 28\">Exp</td><td style=\"background-color:MistyRose\" title=\"1 28\">Non-EU</td><td style=\"background-color:LightGray\" title=\"2 28\">West Midlands</td><td title=\"3 28\">18763.0</td><td style=\"background-color:Aqua\" title=\"4 28\">8137.0</td><td title=\"5 28\"></td><td title=\"6 28\"></td><td title=\"7 28\"></td><td title=\"8 28\"></td><td title=\"9 28\"></td><td title=\"10 28\"></td><td title=\"11 28\"></td><td title=\"12 28\"></td><td title=\"13 28\"></td></tr>\n",
       "<tr><td style=\"background-color:LightGray\" title=\"0 29\">Exp</td><td style=\"background-color:MistyRose\" title=\"1 29\">Non-EU</td><td style=\"background-color:LightGray\" title=\"2 29\">Yorkshire and The Humber</td><td title=\"3 29\">7122.0</td><td style=\"background-color:Aqua\" title=\"4 29\">6692.0</td><td title=\"5 29\"></td><td title=\"6 29\"></td><td title=\"7 29\"></td><td title=\"8 29\"></td><td title=\"9 29\"></td><td title=\"10 29\"></td><td title=\"11 29\"></td><td title=\"12 29\"></td><td title=\"13 29\"></td></tr>\n",
       "<tr><td style=\"background-color:LightGray\" title=\"0 30\">Exp</td><td style=\"background-color:MistyRose\" title=\"1 30\">Non-EU</td><td style=\"background-color:LightGray\" title=\"2 30\">Unallocated - Known</td><td title=\"3 30\">6454.0</td><td style=\"background-color:Aqua\" title=\"4 30\">5190.0</td><td title=\"5 30\"></td><td title=\"6 30\"></td><td title=\"7 30\"></td><td title=\"8 30\"></td><td title=\"9 30\"></td><td title=\"10 30\"></td><td title=\"11 30\"></td><td title=\"12 30\"></td><td title=\"13 30\"></td></tr>\n",
       "<tr><td style=\"background-color:LightGray\" title=\"0 31\">Exp</td><td style=\"background-color:MistyRose\" title=\"1 31\">Non-EU</td><td style=\"background-color:LightGray\" title=\"2 31\">Unallocated - Unknown</td><td title=\"3 31\">10345.0</td><td style=\"background-color:Aqua\" title=\"4 31\">N/A</td><td title=\"5 31\"></td><td title=\"6 31\"></td><td title=\"7 31\"></td><td title=\"8 31\"></td><td title=\"9 31\"></td><td title=\"10 31\"></td><td title=\"11 31\"></td><td title=\"12 31\"></td><td title=\"13 31\"></td></tr>\n",
       "<tr><td title=\"0 32\"></td><td title=\"1 32\"></td><td title=\"2 32\"></td><td title=\"3 32\"></td><td title=\"4 32\"></td><td title=\"5 32\"></td><td title=\"6 32\"></td><td title=\"7 32\"></td><td title=\"8 32\"></td><td title=\"9 32\"></td><td title=\"10 32\"></td><td title=\"11 32\"></td><td title=\"12 32\"></td><td title=\"13 32\"></td></tr>\n",
       "<tr><td style=\"background-color:LightGray\" title=\"0 33\">Imp</td><td style=\"background-color:MistyRose\" title=\"1 33\">EU</td><td style=\"background-color:LightGray\" title=\"2 33\">East</td><td title=\"3 33\">31398.0</td><td style=\"background-color:Aqua\" title=\"4 33\">18315.0</td><td title=\"5 33\"></td><td title=\"6 33\"></td><td title=\"7 33\"></td><td title=\"8 33\"></td><td title=\"9 33\"></td><td title=\"10 33\"></td><td title=\"11 33\"></td><td title=\"12 33\"></td><td title=\"13 33\"></td></tr>\n",
       "<tr><td style=\"background-color:LightGray\" title=\"0 34\">Imp</td><td style=\"background-color:MistyRose\" title=\"1 34\">EU</td><td style=\"background-color:LightGray\" title=\"2 34\">East Midlands</td><td title=\"3 34\">14964.0</td><td style=\"background-color:Aqua\" title=\"4 34\">13276.0</td><td title=\"5 34\"></td><td title=\"6 34\"></td><td title=\"7 34\"></td><td title=\"8 34\"></td><td title=\"9 34\"></td><td title=\"10 34\"></td><td title=\"11 34\"></td><td title=\"12 34\"></td><td title=\"13 34\"></td></tr>\n",
       "<tr><td style=\"background-color:LightGray\" title=\"0 35\">Imp</td><td style=\"background-color:MistyRose\" title=\"1 35\">EU</td><td style=\"background-color:LightGray\" title=\"2 35\">London</td><td title=\"3 35\">29511.0</td><td style=\"background-color:Aqua\" title=\"4 35\">29208.0</td><td title=\"5 35\"></td><td title=\"6 35\"></td><td title=\"7 35\"></td><td title=\"8 35\"></td><td title=\"9 35\"></td><td title=\"10 35\"></td><td title=\"11 35\"></td><td title=\"12 35\"></td><td title=\"13 35\"></td></tr>\n",
       "<tr><td style=\"background-color:LightGray\" title=\"0 36\">Imp</td><td style=\"background-color:MistyRose\" title=\"1 36\">EU</td><td style=\"background-color:LightGray\" title=\"2 36\">North East</td><td title=\"3 36\">7885.0</td><td style=\"background-color:Aqua\" title=\"4 36\">4549.0</td><td title=\"5 36\"></td><td title=\"6 36\"></td><td title=\"7 36\"></td><td title=\"8 36\"></td><td title=\"9 36\"></td><td title=\"10 36\"></td><td title=\"11 36\"></td><td title=\"12 36\"></td><td title=\"13 36\"></td></tr>\n",
       "<tr><td style=\"background-color:LightGray\" title=\"0 37\">Imp</td><td style=\"background-color:MistyRose\" title=\"1 37\">EU</td><td style=\"background-color:LightGray\" title=\"2 37\">North West</td><td title=\"3 37\">20619.0</td><td style=\"background-color:Aqua\" title=\"4 37\">16184.0</td><td title=\"5 37\"></td><td title=\"6 37\"></td><td title=\"7 37\"></td><td title=\"8 37\"></td><td title=\"9 37\"></td><td title=\"10 37\"></td><td title=\"11 37\"></td><td title=\"12 37\"></td><td title=\"13 37\"></td></tr>\n",
       "<tr><td style=\"background-color:LightGray\" title=\"0 38\">Imp</td><td style=\"background-color:MistyRose\" title=\"1 38\">EU</td><td style=\"background-color:LightGray\" title=\"2 38\">Northern Ireland</td><td title=\"3 38\">4797.0</td><td style=\"background-color:Aqua\" title=\"4 38\">13726.0</td><td title=\"5 38\"></td><td title=\"6 38\"></td><td title=\"7 38\"></td><td title=\"8 38\"></td><td title=\"9 38\"></td><td title=\"10 38\"></td><td title=\"11 38\"></td><td title=\"12 38\"></td><td title=\"13 38\"></td></tr>\n",
       "<tr><td style=\"background-color:LightGray\" title=\"0 39\">Imp</td><td style=\"background-color:MistyRose\" title=\"1 39\">EU</td><td style=\"background-color:LightGray\" title=\"2 39\">Scotland</td><td title=\"3 39\">9100.0</td><td style=\"background-color:Aqua\" title=\"4 39\">10537.0</td><td title=\"5 39\"></td><td title=\"6 39\"></td><td title=\"7 39\"></td><td title=\"8 39\"></td><td title=\"9 39\"></td><td title=\"10 39\"></td><td title=\"11 39\"></td><td title=\"12 39\"></td><td title=\"13 39\"></td></tr>\n",
       "<tr><td style=\"background-color:LightGray\" title=\"0 40\">Imp</td><td style=\"background-color:MistyRose\" title=\"1 40\">EU</td><td style=\"background-color:LightGray\" title=\"2 40\">South East</td><td title=\"3 40\">58052.0</td><td style=\"background-color:Aqua\" title=\"4 40\">28481.0</td><td title=\"5 40\"></td><td title=\"6 40\"></td><td title=\"7 40\"></td><td title=\"8 40\"></td><td title=\"9 40\"></td><td title=\"10 40\"></td><td title=\"11 40\"></td><td title=\"12 40\"></td><td title=\"13 40\"></td></tr>\n",
       "<tr><td style=\"background-color:LightGray\" title=\"0 41\">Imp</td><td style=\"background-color:MistyRose\" title=\"1 41\">EU</td><td style=\"background-color:LightGray\" title=\"2 41\">South West</td><td title=\"3 41\">10947.0</td><td style=\"background-color:Aqua\" title=\"4 41\">16088.0</td><td title=\"5 41\"></td><td title=\"6 41\"></td><td title=\"7 41\"></td><td title=\"8 41\"></td><td title=\"9 41\"></td><td title=\"10 41\"></td><td title=\"11 41\"></td><td title=\"12 41\"></td><td title=\"13 41\"></td></tr>\n",
       "<tr><td style=\"background-color:LightGray\" title=\"0 42\">Imp</td><td style=\"background-color:MistyRose\" title=\"1 42\">EU</td><td style=\"background-color:LightGray\" title=\"2 42\">Wales</td><td title=\"3 42\">7388.0</td><td style=\"background-color:Aqua\" title=\"4 42\">6030.0</td><td title=\"5 42\"></td><td title=\"6 42\"></td><td title=\"7 42\"></td><td title=\"8 42\"></td><td title=\"9 42\"></td><td title=\"10 42\"></td><td title=\"11 42\"></td><td title=\"12 42\"></td><td title=\"13 42\"></td></tr>\n",
       "<tr><td style=\"background-color:LightGray\" title=\"0 43\">Imp</td><td style=\"background-color:MistyRose\" title=\"1 43\">EU</td><td style=\"background-color:LightGray\" title=\"2 43\">West Midlands</td><td title=\"3 43\">22718.0</td><td style=\"background-color:Aqua\" title=\"4 43\">15009.0</td><td title=\"5 43\"></td><td title=\"6 43\"></td><td title=\"7 43\"></td><td title=\"8 43\"></td><td title=\"9 43\"></td><td title=\"10 43\"></td><td title=\"11 43\"></td><td title=\"12 43\"></td><td title=\"13 43\"></td></tr>\n",
       "<tr><td style=\"background-color:LightGray\" title=\"0 44\">Imp</td><td style=\"background-color:MistyRose\" title=\"1 44\">EU</td><td style=\"background-color:LightGray\" title=\"2 44\">Yorkshire and The Humber</td><td title=\"3 44\">16744.0</td><td style=\"background-color:Aqua\" title=\"4 44\">12615.0</td><td title=\"5 44\"></td><td title=\"6 44\"></td><td title=\"7 44\"></td><td title=\"8 44\"></td><td title=\"9 44\"></td><td title=\"10 44\"></td><td title=\"11 44\"></td><td title=\"12 44\"></td><td title=\"13 44\"></td></tr>\n",
       "<tr><td style=\"background-color:LightGray\" title=\"0 45\">Imp</td><td style=\"background-color:MistyRose\" title=\"1 45\">EU</td><td style=\"background-color:LightGray\" title=\"2 45\">Unallocated - Known</td><td title=\"3 45\">21485.0</td><td style=\"background-color:Aqua\" title=\"4 45\">2011.0</td><td title=\"5 45\"></td><td title=\"6 45\"></td><td title=\"7 45\"></td><td title=\"8 45\"></td><td title=\"9 45\"></td><td title=\"10 45\"></td><td title=\"11 45\"></td><td title=\"12 45\"></td><td title=\"13 45\"></td></tr>\n",
       "<tr><td style=\"background-color:LightGray\" title=\"0 46\">Imp</td><td style=\"background-color:MistyRose\" title=\"1 46\">EU</td><td style=\"background-color:LightGray\" title=\"2 46\">Unallocated - Unknown</td><td title=\"3 46\">601.0</td><td style=\"background-color:Aqua\" title=\"4 46\">N/A</td><td title=\"5 46\"></td><td title=\"6 46\"></td><td title=\"7 46\"></td><td title=\"8 46\"></td><td title=\"9 46\"></td><td title=\"10 46\"></td><td title=\"11 46\"></td><td title=\"12 46\"></td><td title=\"13 46\"></td></tr>\n",
       "<tr><td title=\"0 47\"></td><td title=\"1 47\"></td><td title=\"2 47\"></td><td title=\"3 47\"></td><td title=\"4 47\"></td><td title=\"5 47\"></td><td title=\"6 47\"></td><td title=\"7 47\"></td><td title=\"8 47\"></td><td title=\"9 47\"></td><td title=\"10 47\"></td><td title=\"11 47\"></td><td title=\"12 47\"></td><td title=\"13 47\"></td></tr>\n",
       "<tr><td style=\"background-color:LightGray\" title=\"0 48\">Imp</td><td style=\"background-color:MistyRose\" title=\"1 48\">Non-EU</td><td style=\"background-color:LightGray\" title=\"2 48\">East</td><td title=\"3 48\">16564.0</td><td style=\"background-color:Aqua\" title=\"4 48\">12629.0</td><td title=\"5 48\"></td><td title=\"6 48\"></td><td title=\"7 48\"></td><td title=\"8 48\"></td><td title=\"9 48\"></td><td title=\"10 48\"></td><td title=\"11 48\"></td><td title=\"12 48\"></td><td title=\"13 48\"></td></tr>\n",
       "<tr><td style=\"background-color:LightGray\" title=\"0 49\">Imp</td><td style=\"background-color:MistyRose\" title=\"1 49\">Non-EU</td><td style=\"background-color:LightGray\" title=\"2 49\">East Midlands</td><td title=\"3 49\">11383.0</td><td style=\"background-color:Aqua\" title=\"4 49\">8986.0</td><td title=\"5 49\"></td><td title=\"6 49\"></td><td title=\"7 49\"></td><td title=\"8 49\"></td><td title=\"9 49\"></td><td title=\"10 49\"></td><td title=\"11 49\"></td><td title=\"12 49\"></td><td title=\"13 49\"></td></tr>\n",
       "<tr><td style=\"background-color:LightGray\" title=\"0 50\">Imp</td><td style=\"background-color:MistyRose\" title=\"1 50\">Non-EU</td><td style=\"background-color:LightGray\" title=\"2 50\">London</td><td title=\"3 50\">32732.0</td><td style=\"background-color:Aqua\" title=\"4 50\">25909.0</td><td title=\"5 50\"></td><td title=\"6 50\"></td><td title=\"7 50\"></td><td title=\"8 50\"></td><td title=\"9 50\"></td><td title=\"10 50\"></td><td title=\"11 50\"></td><td title=\"12 50\"></td><td title=\"13 50\"></td></tr>\n",
       "<tr><td style=\"background-color:LightGray\" title=\"0 51\">Imp</td><td style=\"background-color:MistyRose\" title=\"1 51\">Non-EU</td><td style=\"background-color:LightGray\" title=\"2 51\">North East</td><td title=\"3 51\">5294.0</td><td style=\"background-color:Aqua\" title=\"4 51\">3387.0</td><td title=\"5 51\"></td><td title=\"6 51\"></td><td title=\"7 51\"></td><td title=\"8 51\"></td><td title=\"9 51\"></td><td title=\"10 51\"></td><td title=\"11 51\"></td><td title=\"12 51\"></td><td title=\"13 51\"></td></tr>\n",
       "<tr><td style=\"background-color:LightGray\" title=\"0 52\">Imp</td><td style=\"background-color:MistyRose\" title=\"1 52\">Non-EU</td><td style=\"background-color:LightGray\" title=\"2 52\">North West</td><td title=\"3 52\">16204.0</td><td style=\"background-color:Aqua\" title=\"4 52\">13901.0</td><td title=\"5 52\"></td><td title=\"6 52\"></td><td title=\"7 52\"></td><td title=\"8 52\"></td><td title=\"9 52\"></td><td title=\"10 52\"></td><td title=\"11 52\"></td><td title=\"12 52\"></td><td title=\"13 52\"></td></tr>\n",
       "<tr><td style=\"background-color:LightGray\" title=\"0 53\">Imp</td><td style=\"background-color:MistyRose\" title=\"1 53\">Non-EU</td><td style=\"background-color:LightGray\" title=\"2 53\">Northern Ireland</td><td title=\"3 53\">2641.0</td><td style=\"background-color:Aqua\" title=\"4 53\">2791.0</td><td title=\"5 53\"></td><td title=\"6 53\"></td><td title=\"7 53\"></td><td title=\"8 53\"></td><td title=\"9 53\"></td><td title=\"10 53\"></td><td title=\"11 53\"></td><td title=\"12 53\"></td><td title=\"13 53\"></td></tr>\n",
       "<tr><td style=\"background-color:LightGray\" title=\"0 54\">Imp</td><td style=\"background-color:MistyRose\" title=\"1 54\">Non-EU</td><td style=\"background-color:LightGray\" title=\"2 54\">Scotland</td><td title=\"3 54\">15117.0</td><td style=\"background-color:Aqua\" title=\"4 54\">6860.0</td><td title=\"5 54\"></td><td title=\"6 54\"></td><td title=\"7 54\"></td><td title=\"8 54\"></td><td title=\"9 54\"></td><td title=\"10 54\"></td><td title=\"11 54\"></td><td title=\"12 54\"></td><td title=\"13 54\"></td></tr>\n",
       "<tr><td style=\"background-color:LightGray\" title=\"0 55\">Imp</td><td style=\"background-color:MistyRose\" title=\"1 55\">Non-EU</td><td style=\"background-color:LightGray\" title=\"2 55\">South East</td><td title=\"3 55\">34164.0</td><td style=\"background-color:Aqua\" title=\"4 55\">19563.0</td><td title=\"5 55\"></td><td title=\"6 55\"></td><td title=\"7 55\"></td><td title=\"8 55\"></td><td title=\"9 55\"></td><td title=\"10 55\"></td><td title=\"11 55\"></td><td title=\"12 55\"></td><td title=\"13 55\"></td></tr>\n",
       "<tr><td style=\"background-color:LightGray\" title=\"0 56\">Imp</td><td style=\"background-color:MistyRose\" title=\"1 56\">Non-EU</td><td style=\"background-color:LightGray\" title=\"2 56\">South West</td><td title=\"3 56\">13843.0</td><td style=\"background-color:Aqua\" title=\"4 56\">9485.0</td><td title=\"5 56\"></td><td title=\"6 56\"></td><td title=\"7 56\"></td><td title=\"8 56\"></td><td title=\"9 56\"></td><td title=\"10 56\"></td><td title=\"11 56\"></td><td title=\"12 56\"></td><td title=\"13 56\"></td></tr>\n",
       "<tr><td style=\"background-color:LightGray\" title=\"0 57\">Imp</td><td style=\"background-color:MistyRose\" title=\"1 57\">Non-EU</td><td style=\"background-color:LightGray\" title=\"2 57\">Wales</td><td title=\"3 57\">10225.0</td><td style=\"background-color:Aqua\" title=\"4 57\">4075.0</td><td title=\"5 57\"></td><td title=\"6 57\"></td><td title=\"7 57\"></td><td title=\"8 57\"></td><td title=\"9 57\"></td><td title=\"10 57\"></td><td title=\"11 57\"></td><td title=\"12 57\"></td><td title=\"13 57\"></td></tr>\n",
       "<tr><td style=\"background-color:LightGray\" title=\"0 58\">Imp</td><td style=\"background-color:MistyRose\" title=\"1 58\">Non-EU</td><td style=\"background-color:LightGray\" title=\"2 58\">West Midlands</td><td title=\"3 58\">13951.0</td><td style=\"background-color:Aqua\" title=\"4 58\">11222.0</td><td title=\"5 58\"></td><td title=\"6 58\"></td><td title=\"7 58\"></td><td title=\"8 58\"></td><td title=\"9 58\"></td><td title=\"10 58\"></td><td title=\"11 58\"></td><td title=\"12 58\"></td><td title=\"13 58\"></td></tr>\n",
       "<tr><td style=\"background-color:LightGray\" title=\"0 59\">Imp</td><td style=\"background-color:MistyRose\" title=\"1 59\">Non-EU</td><td style=\"background-color:LightGray\" title=\"2 59\">Yorkshire and The Humber</td><td title=\"3 59\">16322.0</td><td style=\"background-color:Aqua\" title=\"4 59\">8902.0</td><td title=\"5 59\"></td><td title=\"6 59\"></td><td title=\"7 59\"></td><td title=\"8 59\"></td><td title=\"9 59\"></td><td title=\"10 59\"></td><td title=\"11 59\"></td><td title=\"12 59\"></td><td title=\"13 59\"></td></tr>\n",
       "<tr><td style=\"background-color:LightGray\" title=\"0 60\">Imp</td><td style=\"background-color:MistyRose\" title=\"1 60\">Non-EU</td><td style=\"background-color:LightGray\" title=\"2 60\">Unallocated - Known</td><td title=\"3 60\">12895.0</td><td style=\"background-color:Aqua\" title=\"4 60\">7544.0</td><td title=\"5 60\"></td><td title=\"6 60\"></td><td title=\"7 60\"></td><td title=\"8 60\"></td><td title=\"9 60\"></td><td title=\"10 60\"></td><td title=\"11 60\"></td><td title=\"12 60\"></td><td title=\"13 60\"></td></tr>\n",
       "<tr><td style=\"background-color:LightGray\" title=\"0 61\">Imp</td><td style=\"background-color:MistyRose\" title=\"1 61\">Non-EU</td><td style=\"background-color:LightGray\" title=\"2 61\">Unallocated - Unknown</td><td title=\"3 61\">10841.0</td><td style=\"background-color:Aqua\" title=\"4 61\">N/A</td><td title=\"5 61\"></td><td title=\"6 61\"></td><td title=\"7 61\"></td><td title=\"8 61\"></td><td title=\"9 61\"></td><td title=\"10 61\"></td><td title=\"11 61\"></td><td title=\"12 61\"></td><td title=\"13 61\"></td></tr>\n",
       "<tr><td title=\"0 62\"></td><td title=\"1 62\"></td><td title=\"2 62\"></td><td title=\"3 62\"></td><td title=\"4 62\">Source: HMRC Regional Trade in Goods Statistics data</td><td title=\"5 62\"></td><td title=\"6 62\"></td><td title=\"7 62\"></td><td title=\"8 62\"></td><td title=\"9 62\"></td><td title=\"10 62\"></td><td title=\"11 62\"></td><td title=\"12 62\"></td><td title=\"13 62\"></td></tr>\n",
       "</table>\n",
       "\n",
       "</div>\n",
       "\n",
       "<script>\n",
       "var jslookup = {\"4 23\":[0,23,1,23,2,23],\"4 25\":[0,25,1,25,2,25],\"4 50\":[0,50,1,50,2,50],\"9 5\":[6,5,7,5,6,5],\"13 3\":[11,3,11,3,11,3],\"4 34\":[0,34,1,34,2,34],\"4 39\":[0,39,1,39,2,39],\"4 16\":[0,16,1,16,2,16],\"4 19\":[0,19,1,19,2,19],\"4 54\":[0,54,1,54,2,54],\"4 37\":[0,37,1,37,2,37],\"4 12\":[0,12,1,12,2,12],\"4 8\":[0,8,1,8,2,8],\"4 30\":[0,30,1,30,2,30],\"4 45\":[0,45,1,45,2,45],\"4 26\":[0,26,1,26,2,26],\"4 48\":[0,48,1,48,2,48],\"4 6\":[0,6,1,6,2,6],\"4 18\":[0,18,1,18,2,18],\"4 5\":[0,5,1,5,2,5],\"4 59\":[0,59,1,59,2,59],\"4 9\":[0,9,1,9,2,9],\"4 28\":[0,28,1,28,2,28],\"4 3\":[0,3,1,3,2,3],\"4 11\":[0,11,1,11,2,11],\"4 36\":[0,36,1,36,2,36],\"4 46\":[0,46,1,46,2,46],\"4 10\":[0,10,1,10,2,10],\"4 55\":[0,55,1,55,2,55],\"4 56\":[0,56,1,56,2,56],\"4 7\":[0,7,1,7,2,7],\"4 52\":[0,52,1,52,2,52],\"9 3\":[6,3,7,3,6,3],\"4 58\":[0,58,1,58,2,58],\"4 29\":[0,29,1,29,2,29],\"4 21\":[0,21,1,21,2,21],\"4 53\":[0,53,1,53,2,53],\"4 42\":[0,42,1,42,2,42],\"4 57\":[0,57,1,57,2,57],\"4 27\":[0,27,1,27,2,27],\"4 24\":[0,24,1,24,2,24],\"4 20\":[0,20,1,20,2,20],\"4 35\":[0,35,1,35,2,35],\"4 31\":[0,31,1,31,2,31],\"4 14\":[0,14,1,14,2,14],\"4 49\":[0,49,1,49,2,49],\"4 22\":[0,22,1,22,2,22],\"4 60\":[0,60,1,60,2,60],\"4 51\":[0,51,1,51,2,51],\"4 43\":[0,43,1,43,2,43],\"4 4\":[0,4,1,4,2,4],\"13 4\":[11,4,11,4,11,4],\"4 15\":[0,15,1,15,2,15],\"4 38\":[0,38,1,38,2,38],\"4 33\":[0,33,1,33,2,33],\"9 4\":[6,4,7,4,6,4],\"4 44\":[0,44,1,44,2,44],\"4 61\":[0,61,1,61,2,61],\"9 6\":[6,6,7,6,6,6],\"4 13\":[0,13,1,13,2,13],\"4 40\":[0,40,1,40,2,40],\"4 41\":[0,41,1,41,2,41]}; \n",
       "var jdividNUM = \"injblock1002\"; \n",
       "var Dclickedcell = null; \n",
       "function clickedcell() \n",
       "{ \n",
       "    Dclickedcell = this; \n",
       "    console.log(\"jjjj\", this); \n",
       "    var rgc = new RegExp('(^|\\b)' + \"selected\".split(' ').join('|') + '(\\b|$)', 'gi'); \n",
       "    Array.prototype.forEach.call(document.querySelectorAll(\"div#\"+jdividNUM+\" table.ex td.selected\"), function(el, i) { \n",
       "        if (el.classList)  el.classList.remove(\"selected\");\n",
       "        else  el.className = el.className.replace(rgc, ' ');\n",
       "    }); \n",
       "    if (this.classList)  this.classList.add(\"selected\");\n",
       "    else this.className += ' ' + \"selected\";\n",
       "\n",
       "    var dimpairs = jslookup[this.title]; \n",
       "    if (dimpairs !== undefined) {\n",
       "        for (var i = 1; i < dimpairs.length; i += 2) {\n",
       "            var row = document.querySelectorAll(\"div#\"+jdividNUM+\" table.ex tr\")[dimpairs[i]]; \n",
       "            var el = row.querySelectorAll(\"td\")[dimpairs[i-1]]; \n",
       "            if (el.classList)  el.classList.add(\"selected\");\n",
       "            else el.className += ' ' + \"selected\";\n",
       "        }\n",
       "    }\n",
       "}\n",
       "Array.prototype.forEach.call(document.querySelectorAll(\"div#\"+jdividNUM+\" table.ex td\"), function(item, i) { item.onclick=clickedcell; }); \n",
       "</script>\n"
      ],
      "text/plain": [
       "<IPython.core.display.HTML object>"
      ]
     },
     "metadata": {},
     "output_type": "display_data"
    }
   ],
   "source": [
    "savepreviewhtml(c2)"
   ]
  },
  {
   "cell_type": "code",
   "execution_count": 8,
   "metadata": {
    "collapsed": true
   },
   "outputs": [],
   "source": [
    "import numpy as np\n",
    "tidy['OBS'].replace('', np.nan, inplace=True)\n",
    "tidy.dropna(subset=['OBS'], inplace=True)\n",
    "tidy.drop(columns=['DATAMARKER'], inplace=True)\n",
    "tidy.rename(columns={'OBS': 'Value'}, inplace=True)\n",
    "tidy['Value'] = tidy['Value'].astype(int)\n",
    "tidy['Value'] = tidy['Value'].map(lambda x:''\n",
    "                                  if (x == ':') | (x == 'xx') | (x == '..') | (x == 'N/A')\n",
    "                                  else int(x))"
   ]
  },
  {
   "cell_type": "code",
   "execution_count": 9,
   "metadata": {
    "collapsed": true
   },
   "outputs": [],
   "source": [
    "tidy['NUTS Geography'] = tidy['NUTS Geography'].map(\n",
    "    lambda x: {\n",
    "        'East':'East of England', \n",
    "        'Exp' : 'nuts1/all',\n",
    "        'Imp': 'nuts1/all'}.get(x, x))\n",
    "\n",
    "tidy['HMRC Partner Geography'] = tidy['HMRC Partner Geography'].map(\n",
    "    lambda x: {\n",
    "        'Exp' : 'europe',\n",
    "        'Imp': 'europe'}.get(x, x))"
   ]
  },
  {
   "cell_type": "code",
   "execution_count": 10,
   "metadata": {},
   "outputs": [
    {
     "data": {
      "text/plain": [
       "'Flow'"
      ]
     },
     "metadata": {},
     "output_type": "display_data"
    },
    {
     "data": {
      "text/plain": [
       "Index(['Exp', 'Imp'], dtype='object')"
      ]
     },
     "metadata": {},
     "output_type": "display_data"
    },
    {
     "data": {
      "text/plain": [
       "'HMRC Partner Geography'"
      ]
     },
     "metadata": {},
     "output_type": "display_data"
    },
    {
     "data": {
      "text/plain": [
       "Index(['EU', 'Non-EU', 'europe'], dtype='object')"
      ]
     },
     "metadata": {},
     "output_type": "display_data"
    },
    {
     "data": {
      "text/plain": [
       "'Measure Type'"
      ]
     },
     "metadata": {},
     "output_type": "display_data"
    },
    {
     "data": {
      "text/plain": [
       "Index(['Count of Businesses', 'GBP Total'], dtype='object')"
      ]
     },
     "metadata": {},
     "output_type": "display_data"
    },
    {
     "data": {
      "text/plain": [
       "'NUTS Geography'"
      ]
     },
     "metadata": {},
     "output_type": "display_data"
    },
    {
     "data": {
      "text/plain": [
       "Index(['East Midlands', 'East of England', 'London', 'North East',\n",
       "       'North West', 'Northern Ireland', 'Scotland', 'South East',\n",
       "       'South West', 'Unallocated - Known', 'Unallocated - Unknown', 'Wales',\n",
       "       'West Midlands', 'Yorkshire and The Humber', 'nuts1/all'],\n",
       "      dtype='object')"
      ]
     },
     "metadata": {},
     "output_type": "display_data"
    },
    {
     "data": {
      "text/plain": [
       "'SITC 4'"
      ]
     },
     "metadata": {},
     "output_type": "display_data"
    },
    {
     "data": {
      "text/plain": [
       "Index(['all'], dtype='object')"
      ]
     },
     "metadata": {},
     "output_type": "display_data"
    },
    {
     "data": {
      "text/plain": [
       "'Unit'"
      ]
     },
     "metadata": {},
     "output_type": "display_data"
    },
    {
     "data": {
      "text/plain": [
       "Index(['businesses', 'gbp-million'], dtype='object')"
      ]
     },
     "metadata": {},
     "output_type": "display_data"
    }
   ],
   "source": [
    "for col in tidy.columns:\n",
    "    if col not in ['Value', 'Year']:\n",
    "        tidy[col] = tidy[col].astype('category')\n",
    "        display(col)\n",
    "        display(tidy[col].cat.categories)"
   ]
  },
  {
   "cell_type": "code",
   "execution_count": 11,
   "metadata": {
    "collapsed": true
   },
   "outputs": [],
   "source": [
    "tidy['NUTS Geography'] = tidy['NUTS Geography'].cat.rename_categories({\n",
    "    'East Midlands' : 'nuts1/UKF', \n",
    "    'East of England': 'nuts1/UKH', \n",
    "    'London' : 'nuts1/UKI', \n",
    "    'North East' : 'nuts1/UKC',\n",
    "    'North West' : 'nuts1/UKD', \n",
    "    'Scotland' : 'nuts1/UKM', \n",
    "    'South East' : 'nuts1/UKJ', \n",
    "    'South West' : 'nuts1/UKK',\n",
    "    'Total for functional category' : 'nuts1/all', \n",
    "    'Wales' : 'nuts1/UKL', \n",
    "    'West Midlands' : 'nuts1/UKG',\n",
    "    'Yorkshire and The Humber' : 'nuts1/UKE',\n",
    "    'Northern Ireland' : 'nuts1/UKN',\n",
    "    'East of England' : 'nuts1/UKH', \n",
    "    'Unallocated - Known' : 'nuts1/unk', \n",
    "    'Unallocated - Unknown' : 'nuts1/unu'\n",
    "})\n",
    "tidy['HMRC Partner Geography'] = tidy['HMRC Partner Geography'].cat.rename_categories({\n",
    "        'EU'   : 'C',\n",
    "        'Non-EU' : 'non-eu'})\n",
    "tidy['Flow'] = tidy['Flow'].cat.rename_categories({\n",
    "        'Exp'   : 'exports',\n",
    "        'Imp' : 'imports'})"
   ]
  },
  {
   "cell_type": "code",
   "execution_count": 12,
   "metadata": {
    "collapsed": true
   },
   "outputs": [],
   "source": [
    "tidy =tidy[['Year','NUTS Geography','HMRC Partner Geography','Flow','SITC 4','Measure Type', 'Value', 'Unit']]"
   ]
  },
  {
   "cell_type": "code",
   "execution_count": null,
   "metadata": {
    "collapsed": true
   },
   "outputs": [],
   "source": []
  }
 ],
 "metadata": {
  "kernelspec": {
   "display_name": "Python 3",
   "language": "python",
   "name": "python3"
  },
  "language_info": {
   "codemirror_mode": {
    "name": "ipython",
    "version": 3
   },
   "file_extension": ".py",
   "mimetype": "text/x-python",
   "name": "python",
   "nbconvert_exporter": "python",
   "pygments_lexer": "ipython3",
   "version": "3.7.2"
  }
 },
 "nbformat": 4,
 "nbformat_minor": 2
}
