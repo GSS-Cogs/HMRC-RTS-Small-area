{
 "cells": [
  {
   "cell_type": "code",
   "execution_count": 1,
   "metadata": {},
   "outputs": [
    {
     "data": {
      "text/markdown": [
       "## UK regional trade in goods statistics disaggregated by smaller geographical areas\n",
       "\n",
       "This is a catalog of datasets; choose one from the following:\n",
       "\n",
       "* Regional trade in goods statistics disaggregated by smaller geographical areas: 2017\n",
       "* Regional trade in goods statistics disaggregated by smaller geographical areas: 2016"
      ],
      "text/plain": [
       "<gssutils.scrape.Scraper at 0x18c51bfbd68>"
      ]
     },
     "execution_count": 1,
     "metadata": {},
     "output_type": "execute_result"
    }
   ],
   "source": [
    "from gssutils import *\n",
    "\n",
    "scraper = Scraper(\"https://www.gov.uk/government/collections/uk-regional-trade-in-goods-statistics-disaggregated-by-smaller-geographical-areas\")\n",
    "scraper"
   ]
  },
  {
   "cell_type": "code",
   "execution_count": 2,
   "metadata": {},
   "outputs": [
    {
     "data": {
      "text/markdown": [
       "## Regional trade in goods statistics disaggregated by smaller geographical areas: 2017\n",
       "\n",
       "International trade in goods data at summary product and country level, by UK areas smaller than NUTS1.\n",
       "\n",
       "### Description\n",
       "\n",
       "HM Revenue & Customs (HMRC) collects the UK’s international trade in goods\n",
       "data, which are published as two National Statistics series - the ‘Overseas\n",
       "Trade in Goods Statistics (OTS)’ and the ‘Regional Trade in Goods Statistics\n",
       "(RTS)’. The RTS are published quarterly showing trade at summary product and\n",
       "country level, split by UK regions and devolved administrations.\n",
       "\n",
       "This release provides statistics for 2017 calendar year. It breaks down the\n",
       "RTS into smaller UK geographical areas. RTS data and related products are\n",
       "categorised by partner country and [Standard International Trade\n",
       "Classification,\n",
       "Rev.4](http://unstats.un.org/unsd/cr/registry/regcst.asp?Cl=28) (SITC).\n",
       "\n",
       "In this release data is analysed mainly at partner country and SITC section\n",
       "(1-digit) level. The collection and publication methodology for the RTS and\n",
       "this release is available on\n",
       "[www.uktradeinfo.com](https://www.uktradeinfo.com/Pages/Home.aspx).\n",
       "\n",
       "  *[HMRC]: HM Revenue & Customs\n",
       "  *[OTS]: Overseas Trade in Goods Statistics\n",
       "  *[RTS]: Regional Trade in Goods Statistics\n",
       "  *[SITC]: Standard International Trade Classification\n",
       "\n",
       "\n",
       "\n",
       "### Distributions\n",
       "\n",
       "1. Regional trade in goods statistics disaggregated by smaller geographical areas: Commentary 2017 ([application/pdf](https://assets.publishing.service.gov.uk/government/uploads/system/uploads/attachment_data/file/754754/Local_Area_Commentary_2017.pdf))\n",
       "1. Regional trade in goods statistics disaggregated by smaller geographical areas: Data Tables 2017 ([MS Excel Spreadsheet](https://assets.publishing.service.gov.uk/government/uploads/system/uploads/attachment_data/file/763405/Local_Area_Tables_2017.xls))\n",
       "1. Regional trade in goods statistics disaggregated by smaller geographical areas: Interactive Data Tool 2017 ([application/vnd.ms-excel.sheet.macroEnabled.12](https://assets.publishing.service.gov.uk/government/uploads/system/uploads/attachment_data/file/763409/Local_Area_Interactive_Tables_2017.xlsm))\n"
      ],
      "text/plain": [
       "<gssutils.scrape.Scraper at 0x18c51bfbd68>"
      ]
     },
     "execution_count": 2,
     "metadata": {},
     "output_type": "execute_result"
    }
   ],
   "source": [
    "scraper.select_dataset(latest=True)\n",
    "scraper"
   ]
  },
  {
   "cell_type": "code",
   "execution_count": 3,
   "metadata": {},
   "outputs": [
    {
     "data": {
      "text/plain": [
       "dict_keys(['Title', 'Notes', 'T1 NUTS1 (Summary Data)', 'T2 NUTS2', 'T3 NUTS2 SITC Section', 'T4 NUTS2 Partner Country', 'T5 NUTS3'])"
      ]
     },
     "execution_count": 3,
     "metadata": {},
     "output_type": "execute_result"
    }
   ],
   "source": [
    "tabs = {tab.name: tab for tab in scraper.distribution(title=lambda t: 'Data Tables' in t).as_databaker()}\n",
    "tabs.keys()"
   ]
  },
  {
   "cell_type": "code",
   "execution_count": 4,
   "metadata": {},
   "outputs": [
    {
     "data": {
      "text/plain": [
       "2017"
      ]
     },
     "execution_count": 4,
     "metadata": {},
     "output_type": "execute_result"
    }
   ],
   "source": [
    "year_cell = tabs['Title'].filter('Detailed Data Tables').shift(UP)\n",
    "year_cell.assert_one()\n",
    "dataset_year = int(year_cell.value)\n",
    "dataset_year"
   ]
  },
  {
   "cell_type": "code",
   "execution_count": 5,
   "metadata": {
    "collapsed": true
   },
   "outputs": [],
   "source": [
    "%%capture\n",
    "\n",
    "def process_tab(t):\n",
    "    %run \"$t\"\n",
    "    return tidy\n",
    "\n",
    "table = pd.concat(process_tab(f'{t}.ipynb') for t in ['T1', 'T2', 'T3', 'T4', 'T5'])"
   ]
  },
  {
   "cell_type": "code",
   "execution_count": 6,
   "metadata": {
    "collapsed": true
   },
   "outputs": [],
   "source": [
    "out = Path('out')\n",
    "out.mkdir(exist_ok=True)\n",
    "table.to_csv(out / 'observations.csv', index = False)"
   ]
  },
  {
   "cell_type": "code",
   "execution_count": 7,
   "metadata": {
    "collapsed": true
   },
   "outputs": [],
   "source": [
    "from gssutils.metadata import THEME\n",
    "scraper.dataset.family = 'Trade'\n",
    "scraper.dataset.theme = THEME['business-industry-trade-energy']\n",
    "\n",
    "with open(out / 'dataset.trig', 'wb') as metadata:\n",
    "     metadata.write(scraper.generate_trig())"
   ]
  }
 ],
 "metadata": {
  "kernelspec": {
   "display_name": "Python 3",
   "language": "python",
   "name": "python3"
  },
  "language_info": {
   "codemirror_mode": {
    "name": "ipython",
    "version": 3
   },
   "file_extension": ".py",
   "mimetype": "text/x-python",
   "name": "python",
   "nbconvert_exporter": "python",
   "pygments_lexer": "ipython3",
   "version": "3.6.3"
  }
 },
 "nbformat": 4,
 "nbformat_minor": 2
}
